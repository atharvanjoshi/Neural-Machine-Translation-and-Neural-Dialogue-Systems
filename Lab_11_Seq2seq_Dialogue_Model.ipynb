{
  "nbformat": 4,
  "nbformat_minor": 0,
  "metadata": {
    "accelerator": "GPU",
    "colab": {
      "name": "Lab_11_Seq2seq_Dialogue_Model.ipynb",
      "provenance": [],
      "collapsed_sections": [],
      "toc_visible": true
    },
    "kernelspec": {
      "display_name": "Python 3",
      "language": "python",
      "name": "python3"
    },
    "language_info": {
      "codemirror_mode": {
        "name": "ipython",
        "version": 3
      },
      "file_extension": ".py",
      "mimetype": "text/x-python",
      "name": "python",
      "nbconvert_exporter": "python",
      "pygments_lexer": "ipython3",
      "version": "3.6.12"
    }
  },
  "cells": [
    {
      "cell_type": "markdown",
      "metadata": {
        "id": "pulSn6bHUOTV"
      },
      "source": [
        "# Lab 11 - weeks 11 & 12 - Creating an End-To-End Dialogue System"
      ]
    },
    {
      "cell_type": "markdown",
      "metadata": {
        "id": "vb_Z5dCsUQnW"
      },
      "source": [
        "In the last lab we want to create end-to-end dialogue systems, following on from the seq2seq MT labs you've done. Customer support apps and online helpdesks are among the places where conversational models can be used. Retrieval-based models, which produce predefined responses to questions of specific types, are often used to power these models. In this lab, the seq2seq model is used to build a generative model."
      ]
    },
    {
      "cell_type": "markdown",
      "metadata": {
        "id": "B3q5lgWkVD6-"
      },
      "source": [
        "To begin, download the data ZIP file from [here](https://www.cs.cornell.edu/~cristian/Cornell_Movie-Dialogs_Corpus.html) and place it under the current directory. \n",
        "\n",
        "After that, let’s import some necessities."
      ]
    },
    {
      "cell_type": "code",
      "metadata": {
        "id": "9Dz-W5nwGydd"
      },
      "source": [
        "import re\n",
        "import sys\n",
        "import os\n",
        "import random\n",
        "import string\n",
        "import time\n",
        "import pickle\n",
        "import numpy as np\n",
        "import tensorflow as tf\n",
        "import matplotlib.pyplot as plt\n",
        "from tensorflow.keras import optimizers\n",
        "from tensorflow.keras.layers import add\n",
        "from tensorflow.keras.models import Model\n",
        "from tensorflow.keras import backend as K\n",
        "from tensorflow.keras.utils import plot_model\n",
        "from tensorflow.keras.callbacks import ReduceLROnPlateau\n",
        "from nltk.translate.bleu_score import corpus_bleu\n",
        "from tensorflow.keras.utils import to_categorical\n",
        "from tensorflow.keras.callbacks import ModelCheckpoint\n",
        "from tensorflow.keras.preprocessing.text import Tokenizer\n",
        "from tensorflow.keras.preprocessing.sequence import pad_sequences\n",
        "from tensorflow.keras.layers import Input, Dense, LSTM, GRU, TimeDistributed\n",
        "from tensorflow.keras.layers import Embedding, Dropout, Bidirectional, Concatenate, Lambda\n",
        "np.random.seed(1)\n",
        "random.seed(1)"
      ],
      "execution_count": 1,
      "outputs": []
    },
    {
      "cell_type": "code",
      "metadata": {
        "colab": {
          "base_uri": "https://localhost:8080/"
        },
        "id": "i-bgxBxHHIDi",
        "outputId": "5a0481f4-bfa3-4af8-d344-eb077ad8453c"
      },
      "source": [
        "from google.colab import drive\n",
        "\n",
        "drive.mount('/content/drive', force_remount=True)\n",
        "\n",
        "os.chdir(\"/content/drive/My Drive\")"
      ],
      "execution_count": 2,
      "outputs": [
        {
          "output_type": "stream",
          "text": [
            "Mounted at /content/drive\n"
          ],
          "name": "stdout"
        }
      ]
    },
    {
      "cell_type": "markdown",
      "metadata": {
        "id": "SVIb8_AK9xjD"
      },
      "source": [
        "# The Cornell Movie-Dialogs Corpus "
      ]
    },
    {
      "cell_type": "markdown",
      "metadata": {
        "id": "p7hru-2uFRWy"
      },
      "source": [
        "The next move is to reformat our data file and load the data into functional structures. \n",
        "\n",
        "The Cornell Movie-Dialogs Corpus contains 220,579 conversational exchanges between 10,292 pairs of movie characters, 9,035 characters from 617 movies, and 304,713 total utterances. This dataset is large with a wide variety of language formality, time periods, and other variables. Our hope is that this variety will make our model responsive to a wide range of queries."
      ]
    },
    {
      "cell_type": "code",
      "metadata": {
        "colab": {
          "base_uri": "https://localhost:8080/"
        },
        "id": "wVCjdDP_HMIM",
        "outputId": "da013647-0f89-462b-cbec-4f5a7ff7ab22"
      },
      "source": [
        "#Loading the data\n",
        "lines = open('cornell movie-dialogs corpus/movie_lines.txt', encoding='utf-8', errors='ignore').read().split('\\n')\n",
        "conv_lines = open('cornell movie-dialogs corpus/movie_conversations.txt', encoding='utf-8', errors='ignore').read().split('\\n') # index of related lines\n",
        "\n",
        "# Create a dictionary to map each id with its line\n",
        "id2line = {}\n",
        "for line in lines:\n",
        "    _line = line.split(' +++$+++ ')\n",
        "    if len(_line) == 5:\n",
        "        id2line[_line[0]] = _line[4]\n",
        "        \n",
        "# Create a list of all of the ids.\n",
        "convs = [ ]\n",
        "for line in conv_lines[:-1]:\n",
        "    _line = line.split(' +++$+++ ')[-1][1:-1].replace(\"'\",\"\").replace(\" \",\"\")\n",
        "    convs.append(_line.split(','))\n",
        "\n",
        "# Sort the sentences into questions (inputs) and answers (targets)\n",
        "pairs = []\n",
        "for conv in convs:\n",
        "    for i in range(len(conv)-1):\n",
        "        pairs.append([id2line[conv[i]],id2line[conv[i+1]]])\n",
        "        \n",
        "limit = 0\n",
        "for i in range(limit, limit+5):\n",
        "    print(pairs[i][0])\n",
        "    print(pairs[i][1])\n",
        "    print()\n",
        "    \n",
        "len(pairs)\n"
      ],
      "execution_count": 3,
      "outputs": [
        {
          "output_type": "stream",
          "text": [
            "Can we make this quick?  Roxanne Korrine and Andrew Barrett are having an incredibly horrendous public break- up on the quad.  Again.\n",
            "Well, I thought we'd start with pronunciation, if that's okay with you.\n",
            "\n",
            "Well, I thought we'd start with pronunciation, if that's okay with you.\n",
            "Not the hacking and gagging and spitting part.  Please.\n",
            "\n",
            "Not the hacking and gagging and spitting part.  Please.\n",
            "Okay... then how 'bout we try out some French cuisine.  Saturday?  Night?\n",
            "\n",
            "You're asking me out.  That's so cute. What's your name again?\n",
            "Forget it.\n",
            "\n",
            "No, no, it's my fault -- we didn't have a proper introduction ---\n",
            "Cameron.\n",
            "\n"
          ],
          "name": "stdout"
        },
        {
          "output_type": "execute_result",
          "data": {
            "text/plain": [
              "221616"
            ]
          },
          "metadata": {
            "tags": []
          },
          "execution_count": 3
        }
      ]
    },
    {
      "cell_type": "markdown",
      "metadata": {
        "id": "pGhwqopLhZBu"
      },
      "source": [
        "We'll format data file with a question sentence and an answer sentence pair on each line for convenience.  Before we are ready to use this data, we must perform some preprocessing.\n"
      ]
    },
    {
      "cell_type": "code",
      "metadata": {
        "colab": {
          "base_uri": "https://localhost:8080/"
        },
        "id": "R0O-qSHrHYgU",
        "outputId": "76097619-19f0-4d5d-e65b-db67b531e460"
      },
      "source": [
        "def preprocess(pairs):\n",
        "    p = pairs.copy()\n",
        "\n",
        "    for i in p:\n",
        "        for j in range(0,2):\n",
        "            i[j] = i[j].lower()\n",
        "            i[j] = re.sub(r\"there's\", \"there is\", i[j])\n",
        "            i[j] = re.sub(r\"i'm\", \"i am\", i[j])\n",
        "            i[j] = re.sub(r\"he's\", \"he is\", i[j])\n",
        "            i[j] = re.sub(r\"she's\", \"she is\", i[j])\n",
        "            i[j] = re.sub(r\"it's\", \"it is\", i[j])\n",
        "            i[j] = re.sub(r\"that's\", \"that is\", i[j])\n",
        "            i[j] = re.sub(r\"what's\", \"that is\", i[j])\n",
        "            i[j] = re.sub(r\"where's\", \"where is\", i[j])\n",
        "            i[j] = re.sub(r\"how's\", \"how is\", i[j])\n",
        "            i[j] = re.sub(r\"\\'ll\", \" will\", i[j])\n",
        "            i[j] = re.sub(r\"\\'ve\", \" have\", i[j])\n",
        "            i[j] = re.sub(r\"\\'re\", \" are\", i[j])\n",
        "            i[j] = re.sub(r\"\\'d\", \" would\", i[j])\n",
        "            i[j] = re.sub(r\"\\'re\", \" are\", i[j])\n",
        "            i[j] = re.sub(r\"won't\", \"will not\", i[j])\n",
        "            i[j] = re.sub(r\"can't\", \"cannot\", i[j])\n",
        "            i[j] = re.sub(r\"n't\", \" not\", i[j])\n",
        "            i[j] = re.sub(r\"n'\", \"ng\", i[j])\n",
        "            i[j] = re.sub(r\"'bout\", \"about\", i[j])\n",
        "            i[j] = re.sub(r\"'til\", \"until\", i[j])\n",
        "            i[j] = re.sub(r\"[-()\\\"#/@;:<>{}`+=~|.!?,]\", \"\", i[j])\n",
        "            i[j] = i[j].strip()\n",
        "    return p\n",
        "\n",
        "replaced_pairs = preprocess(pairs)\n",
        "def clean_data(pairs):\n",
        "    p = pairs.copy()\n",
        "    # prepare translation table \n",
        "    table = str.maketrans('', '', string.punctuation)\n",
        "    for i in p:\n",
        "        # tokenize\n",
        "        i[0], i[1] = i[0].split(), i[1].split()\n",
        "        # convert to lower case\n",
        "        i[0], i[1] = [word.lower() for word in i[0]], [word.lower() for word in i[1]]\n",
        "        # remove punctuations \n",
        "        i[0], i[1] = [w.translate(table) for w in i[0]], [w.translate(table) for w in i[1]]\n",
        "        # remove numbers \n",
        "        i[0], i[1] = [word for word in i[0] if word.isalpha()], [word for word in i[1] if word.isalpha()]\n",
        "        # store as string\n",
        "        i[0], i[1] =  ' '.join(i[0]), ' '.join(i[1])\n",
        "            \n",
        "    return p\n",
        "\n",
        "clean_pairs = clean_data(replaced_pairs)\n",
        "clean_pairs[:5]"
      ],
      "execution_count": 4,
      "outputs": [
        {
          "output_type": "execute_result",
          "data": {
            "text/plain": [
              "[['can we make this quick roxanne korrine and andrew barrett are having an incredibly horrendous public break up on the quad again',\n",
              "  'well i thought we would start with pronunciation if that is okay with you'],\n",
              " ['well i thought we would start with pronunciation if that is okay with you',\n",
              "  'not the hacking and gagging and spitting part please'],\n",
              " ['not the hacking and gagging and spitting part please',\n",
              "  'okay then how about we try out some french cuisine saturday night'],\n",
              " ['you are asking me out that is so cute that is your name again',\n",
              "  'forget it'],\n",
              " ['no no it is my fault we did not have a proper introduction', 'cameron']]"
            ]
          },
          "metadata": {
            "tags": []
          },
          "execution_count": 4
        }
      ]
    },
    {
      "cell_type": "markdown",
      "metadata": {
        "id": "FKTpzSOWnUgL"
      },
      "source": [
        "\n",
        "The parsing of the raw movie lines.txt data file is made simpler with the following functions. We add the start and end tokens to our sentences. We also need to find the maximum length.\n",
        "\n"
      ]
    },
    {
      "cell_type": "code",
      "metadata": {
        "colab": {
          "base_uri": "https://localhost:8080/"
        },
        "id": "g_P2abDKHkbm",
        "outputId": "4864db61-d165-4dcf-bf8f-41f0e15cccaf"
      },
      "source": [
        "# adding the start and end tokens to our utterances\n",
        "start_token = '<startseq>'\n",
        "end_token = '<endseq>'\n",
        "\n",
        "def add_end_start_tokens(pairs):\n",
        "    p = pairs.copy()\n",
        "    for i in p:\n",
        "        i[0] = start_token + ' '  + i[0] + ' ' + end_token\n",
        "        i[1] = start_token + ' '  + i[1] + ' ' + end_token\n",
        "    return p\n",
        "\n",
        "tokenized_pairs = add_end_start_tokens(clean_pairs)\n",
        "tokenized_pairs[:5]\n",
        "\n",
        "# finding the maximum length for questions and answers\n",
        "# we caculate the max length that covers 80% of the data \n",
        "def max_length(pairs,prct):\n",
        "    # Create a list of all the utterances\n",
        "    questions = []\n",
        "    answers = []\n",
        "    for i in pairs:\n",
        "        questions.append(i[0])\n",
        "        answers.append(i[1])\n",
        "        \n",
        "    length_questions = list(len(d.split()) for d in questions)\n",
        "    length_answers = list(len(d.split()) for d in answers)\n",
        "\n",
        "    return int(np.percentile(length_questions, prct)),int(np.percentile(length_answers, prct))\n",
        "\n",
        "max_len_q,max_len_a = max_length(tokenized_pairs,80)\n",
        "\n",
        "print('max-len of questions for training: ', max_len_q)\n",
        "print('max-len of answers for training: ', max_len_a)"
      ],
      "execution_count": 5,
      "outputs": [
        {
          "output_type": "stream",
          "text": [
            "max-len of questions for training:  18\n",
            "max-len of answers for training:  18\n"
          ],
          "name": "stdout"
        }
      ]
    },
    {
      "cell_type": "markdown",
      "metadata": {
        "id": "hFsKDr1Wr6d3"
      },
      "source": [
        "The next step is to build a vocabulary and save query/response pairs. \n",
        "It's worth noting that we're dealing with word sequences that don't have an implicit mapping to a discrete numerical space. As a result, we must build one by assigning an index value to each unique word in our dataset.\n",
        "\n",
        "We are going to create our vocabulary. Trimming rarely used words from our vocabulary is another strategy for achieving faster convergence during preparation. The complexity of the function that the model must learn to approximate will be lowered as the feature space is reduced."
      ]
    },
    {
      "cell_type": "code",
      "metadata": {
        "colab": {
          "base_uri": "https://localhost:8080/"
        },
        "id": "Y20Cn9KPHrid",
        "outputId": "067bbc6c-51c9-4a5b-f3a2-06cc454cce87"
      },
      "source": [
        "# Remove questions and answers that are shorter than 2 words and longer than maxlen.\n",
        "min_line_len = 2 # two words are for tokens\n",
        "\n",
        "def set_length(tokenized_pairs):\n",
        "    pairs_final = []\n",
        "    for p in tokenized_pairs:\n",
        "        if (\n",
        "            len(p[0].split())>=min_line_len and len(p[1].split())>=min_line_len \n",
        "           and len(p[0].split())<=max_len_q and len(p[1].split())<=max_len_a):\n",
        "                \n",
        "            pairs_final.append(p)\n",
        "            \n",
        "    return pairs_final\n",
        "\n",
        "pairs_final = set_length(tokenized_pairs)\n",
        "len(pairs_final)\n",
        "\n",
        "# making a vocabulary of the words that occur more than word_count_threshold \n",
        "def create_reoccurring_vocab(pairs, word_count_threshold = 5):\n",
        "    p = pairs\n",
        "    all_captions = []\n",
        "    for i in p:\n",
        "        for j in i:\n",
        "            all_captions.append(j)\n",
        "\n",
        "    # Consider only words which occur at least 10 times in the corpus\n",
        "    word_counts = {}\n",
        "    nsents = 0\n",
        "    for sent in all_captions:\n",
        "        nsents += 1\n",
        "        for w in sent.split(' '):\n",
        "            word_counts[w] = word_counts.get(w, 0) + 1\n",
        "\n",
        "    vocab = [w for w in word_counts if word_counts[w] >= word_count_threshold]\n",
        "    vocab = list(set(vocab))\n",
        "    print('Short vocab size: %d ' % len(vocab))\n",
        "    return vocab\n",
        "\n",
        "# each word in the vocabulary must be used in the data at least 20 times\n",
        "new_vocab = create_reoccurring_vocab(pairs_final, word_count_threshold = 4)\n",
        "for v in new_vocab:\n",
        "    if len(v) == 1 and v!='a' and v!='i':\n",
        "        new_vocab.remove(v) \n",
        "\n",
        "new_vocab = sorted(new_vocab)[1:]\n",
        "new_vocab[:5]"
      ],
      "execution_count": 6,
      "outputs": [
        {
          "output_type": "stream",
          "text": [
            "Short vocab size: 14524 \n"
          ],
          "name": "stdout"
        },
        {
          "output_type": "execute_result",
          "data": {
            "text/plain": [
              "['<endseq>', '<startseq>', 'a', 'aa', 'aaaah']"
            ]
          },
          "metadata": {
            "tags": []
          },
          "execution_count": 6
        }
      ]
    },
    {
      "cell_type": "code",
      "metadata": {
        "colab": {
          "base_uri": "https://localhost:8080/"
        },
        "id": "2Gf7WtdIH1l7",
        "outputId": "7e186076-3f70-4a28-af38-164460096022"
      },
      "source": [
        "vocab_len = len(new_vocab) + 1 # since index 0 is used as padding, we have to increase the vocab size\n",
        "vocab_len\n"
      ],
      "execution_count": 7,
      "outputs": [
        {
          "output_type": "execute_result",
          "data": {
            "text/plain": [
              "14500"
            ]
          },
          "metadata": {
            "tags": []
          },
          "execution_count": 7
        }
      ]
    },
    {
      "cell_type": "markdown",
      "metadata": {
        "id": "WQ1ai5lcibcU"
      },
      "source": [
        "We are going to create a dataset of pairs without the trimmed words."
      ]
    },
    {
      "cell_type": "code",
      "metadata": {
        "id": "L0iu6Z3RmecS"
      },
      "source": [
        "def progressBar(value, endvalue, bar_length=20, job=''):\n",
        "\n",
        "    percent = float(value) / endvalue\n",
        "    arrow = '-' * int(round(percent * bar_length)-1) + '>'\n",
        "    spaces = ' ' * (bar_length - len(arrow))\n",
        "\n",
        "    sys.stdout.write(\"\\r{0} : [{1}] {2}%\".format(job,arrow + spaces, int(round(percent * 100))))\n",
        "    sys.stdout.flush()\n",
        "    \n",
        "def print_tensor(t):\n",
        "    print(K.get_value(t))\n",
        "    \n",
        "def to_tensor(t):\n",
        "    return tf.convert_to_tensor(t)"
      ],
      "execution_count": 8,
      "outputs": []
    },
    {
      "cell_type": "code",
      "metadata": {
        "colab": {
          "base_uri": "https://localhost:8080/"
        },
        "id": "9xWI1J7uH4II",
        "outputId": "ff480dc4-2556-4e63-ac66-f3d0d1f0008c"
      },
      "source": [
        "# keeping the pairs with words in the vocab\n",
        "def trimRareWords(voc, pairs):\n",
        "    # Filtering out the pairs with the oov words\n",
        "    keep_pairs = []\n",
        "    i=0\n",
        "    for pair in pairs:\n",
        "        i+=1\n",
        "        progressBar(value=i,endvalue=len(pairs))\n",
        "        input_sentence = pair[0]\n",
        "        output_sentence = pair[1]\n",
        "        keep_input = True\n",
        "        keep_output = True\n",
        "        #  input sentence\n",
        "        for word in input_sentence.split(' '):\n",
        "            if word not in voc:\n",
        "                keep_input = False\n",
        "                break\n",
        "        #  output sentence\n",
        "        for word in output_sentence.split(' '):\n",
        "            if word not in voc:\n",
        "                keep_output = False\n",
        "                break\n",
        "\n",
        "        if keep_input and keep_output:\n",
        "            keep_pairs.append(pair)\n",
        "\n",
        "    print(\"\\nTrimmed from {} pairs to {}\".format(len(pairs), len(keep_pairs)))\n",
        "    return keep_pairs\n",
        "\n",
        "\n",
        "# # Trim voc and pairs\n",
        "pairs_final = trimRareWords(new_vocab, pairs_final)\n",
        "with open ('final_pairs_v21.pkl','wb') as f:\n",
        "    pairs_final = pickle.dump(pairs_final,f)\n",
        "    \n",
        "with open ('final_pairs_v21.pkl','rb') as f:\n",
        "    pairs_final = pickle.load(f)\n",
        "    \n",
        "pairs_final_train = pairs_final\n",
        "len(pairs_final_train)"
      ],
      "execution_count": 9,
      "outputs": [
        {
          "output_type": "stream",
          "text": [
            " : [------------------->] 100%\n",
            "Trimmed from 145905 pairs to 114938\n"
          ],
          "name": "stdout"
        },
        {
          "output_type": "execute_result",
          "data": {
            "text/plain": [
              "114938"
            ]
          },
          "metadata": {
            "tags": []
          },
          "execution_count": 9
        }
      ]
    },
    {
      "cell_type": "code",
      "metadata": {
        "colab": {
          "base_uri": "https://localhost:8080/"
        },
        "id": "gtP1tSpzf6FA",
        "outputId": "28dec9f9-ccd9-496d-98d6-c1f2cc51dc52"
      },
      "source": [
        "with open ('final_pairs_v21.pkl','rb') as f:\n",
        "    pairs_final = pickle.load(f)\n",
        "    \n",
        "pairs_final_train = pairs_final\n",
        "len(pairs_final_train)"
      ],
      "execution_count": 10,
      "outputs": [
        {
          "output_type": "execute_result",
          "data": {
            "text/plain": [
              "114938"
            ]
          },
          "metadata": {
            "tags": []
          },
          "execution_count": 10
        }
      ]
    },
    {
      "cell_type": "markdown",
      "metadata": {
        "id": "Szo-AVa_z1tR"
      },
      "source": [
        "# Embedding layer"
      ]
    },
    {
      "cell_type": "markdown",
      "metadata": {
        "id": "zf7PJEmwUywI"
      },
      "source": [
        "Our models will eventually expect numerical tensors as inputs, despite the fact that we put a lot of effort into preparing and massaging our data into a nice vocabulary object and list of sentence pairs. The Embedding layer can be used to load a pre-trained word embedding model. We are going to use GloVe embeddings. You can download GloVe and we can seed the Keras Embedding layer with weights from the pre-trained embedding for the words in your dataset."
      ]
    },
    {
      "cell_type": "code",
      "metadata": {
        "colab": {
          "base_uri": "https://localhost:8080/"
        },
        "id": "6P8WElcGICYy",
        "outputId": "e784c377-bcf0-4d90-d18f-42ca91822222"
      },
      "source": [
        "test = False\n",
        "GRU_units = 50\n",
        "batch_size = 32\n",
        "emb_dim = 50\n",
        "init_lr = 0.001\n",
        "\n",
        "#Create an instance of the tokenizer object:\n",
        "tokenizer = Tokenizer(filters = [])\n",
        "tokenizer.fit_on_texts(new_vocab)\n",
        "\n",
        "ixtoword = {} # index to word dic\n",
        "wordtoix = tokenizer.word_index # word to index dic\n",
        "pad_token = 'pad0'\n",
        "ixtoword[0] = pad_token # no word in vocab has index 0,  padding is indicated with 0\n",
        "\n",
        "for w in tokenizer.word_index:\n",
        "    ixtoword[tokenizer.word_index[w]] = w\n",
        "\n",
        "# Making the embedding mtrix\n",
        "def make_embedding_layer(embedding_dim=50, glove=True):\n",
        "    if glove == False:\n",
        "        print('Just a zero matrix loaded')\n",
        "        embedding_matrix = np.zeros((vocab_len, embedding_dim)) # just a zero matrix \n",
        "    else:\n",
        "        print('Loading glove...')\n",
        "        embeddings_index = {} \n",
        "        f = open(os.path.join('glove.6B.50d.txt'), encoding=\"utf-8\")\n",
        "        for line in f:\n",
        "            values = line.split()\n",
        "            word = values[0]\n",
        "            coefs = np.asarray(values[1:], dtype='float32')\n",
        "            embeddings_index[word] = coefs\n",
        "        f.close()\n",
        "        print(\"GloVe \",embedding_dim, ' loded!')\n",
        "        embedding_matrix = np.zeros((vocab_len, embedding_dim)) # to import as weights for Keras Embedding layer\n",
        "        for word, i in wordtoix.items():\n",
        "            embedding_vector = embeddings_index.get(word)\n",
        "            if embedding_vector is not None:\n",
        "                # Words that are not found in the embedding index will be all zeros\n",
        "                embedding_matrix[i] = embedding_vector\n",
        "            \n",
        "    embedding_layer = Embedding(vocab_len, embedding_dim, mask_zero=True, trainable=False) # we have a limited vocab so we \n",
        "                                                                                           # do not train the embedding layer\n",
        "                                                                                           # we use 0 as padding so => mask_zero=True\n",
        "    embedding_layer.build((None,))\n",
        "    embedding_layer.set_weights([embedding_matrix])\n",
        "    \n",
        "    return embedding_layer\n",
        "\n",
        "embeddings = make_embedding_layer(embedding_dim=50, glove=not test)"
      ],
      "execution_count": 11,
      "outputs": [
        {
          "output_type": "stream",
          "text": [
            "Loading glove...\n",
            "GloVe  50  loded!\n"
          ],
          "name": "stdout"
        }
      ]
    },
    {
      "cell_type": "markdown",
      "metadata": {
        "id": "HIZCs-L8-XWh"
      },
      "source": [
        "# Seq2Seq Model\n",
        "\n"
      ]
    },
    {
      "cell_type": "markdown",
      "metadata": {
        "id": "EEcMRrQ3VVwA"
      },
      "source": [
        "A sequence-to-sequence (seq2seq) model is at the core of our model. The purpose of a seq2seq model is to use a fixed-sized sequence as an input and generate a variable-length sequence as an output.\n",
        "\n",
        "[Sutskever et al.](https://arxiv.org/abs/1409.3215) found that we can do this task by combining two different recurrent neural nets. One  RNN serves as an encoder, converting a variable-length input sequence to a fixed-length context vector. This context vector (the RNN's final hidden layer) contain semantic knowledge about the query sentence that the system receives.\n",
        "\n"
      ]
    },
    {
      "cell_type": "markdown",
      "metadata": {
        "id": "mhGdfvA0-jcE"
      },
      "source": [
        "# Encoder"
      ]
    },
    {
      "cell_type": "markdown",
      "metadata": {
        "id": "l1fHwj0C-idB"
      },
      "source": [
        "The encoder RNN iterates through the input sentence one token at a time, producing an \"output\" vector and a \"hidden state\" vector at each time step.  The output vector is recorded while the hidden state vector is transferred to the next time step. The encoder converts the context it observed at each point in the sequence into a set of points in a high-dimensional space, which the decoder can use to produce a meaningful output for the task at hand.\n",
        "\n",
        "A multi-layered Gated Recurrent Unit, created by [Cho et al.](https://arxiv.org/pdf/1406.1078v3.pdf), is at the centre of our encoder. We'll use a bidirectional version of the GRU, which effectively means there are two separate RNNs: one fed the input sequence in regular sequential order and the other fed the input sequence in reverse order. At each time point, the outputs of each network are added together.\n",
        "\n",
        "***For the first task you need to define a bidirectional GRU and pass the embedding into the GRU. ***"
      ]
    },
    {
      "cell_type": "code",
      "metadata": {
        "id": "cGy-CuL-IXKr"
      },
      "source": [
        "class Encoder(tf.keras.Model):\n",
        "    def __init__(self, vocab_size, embedding_dim, enc_units):\n",
        "        super(Encoder, self).__init__()\n",
        "        self.batch_sz = batch_size\n",
        "        self.enc_units = enc_units\n",
        "        self.embeddings = embeddings\n",
        "\n",
        "        #  pass the embedding into a bidirectional version of the GRU\n",
        "        #                                                                                        \n",
        "        self.dropout = Dropout(0.2)\n",
        "        self.Inp = Input(shape=(max_len_q,)) # size of questions\n",
        "\n",
        "        self.Bidirectional1 = Bidirectional(GRU(self.enc_units, return_state= False, return_sequences= True, recurrent_initializer = 'glorot_uniform'))\n",
        "        self.Bidirectional2 = Bidirectional(GRU(self.enc_units, return_state= True, return_sequences= True, recurrent_initializer = 'glorot_uniform'))\n",
        "            \n",
        "    def bidirectional(self, bidir, layer, inp, hidden):\n",
        "        return bidir(layer(inp, initial_state = hidden))\n",
        "    \n",
        "    def call(self, x, hidden):\n",
        "\n",
        "        x = self.embeddings(x)\n",
        "        x = self.dropout(x) # dropout 1\n",
        "        x = self.Bidirectional1(x)\n",
        "        x = self.dropout(x) # dropout 2\n",
        "        x = self.Bidirectional2(x)\n",
        "        output, state_f,state_b = x\n",
        "\n",
        "        return output, state_f, state_b\n",
        "\n",
        "    def initialize_hidden_state(self):\n",
        "        return tf.zeros((self.batch_sz, self.enc_units))\n",
        "\n"
      ],
      "execution_count": 12,
      "outputs": []
    },
    {
      "cell_type": "markdown",
      "metadata": {
        "id": "CSnbjv9PZkJn"
      },
      "source": [
        "<font color = \"#75a2eb\"><b>Here we just created two Bidirectional layers in which we have passed the GRU layer. The encoding units that were passed to the function are passed as parameters to the GRU layer.</b></font>"
      ]
    },
    {
      "cell_type": "code",
      "metadata": {
        "id": "HWX9HCkIIbed"
      },
      "source": [
        "encoder = Encoder(vocab_len, 50, GRU_units)\n"
      ],
      "execution_count": 13,
      "outputs": []
    },
    {
      "cell_type": "markdown",
      "metadata": {
        "id": "80-YvbB--qbT"
      },
      "source": [
        "# Decoder"
      ]
    },
    {
      "cell_type": "markdown",
      "metadata": {
        "id": "aQ7GWss5YqUC"
      },
      "source": [
        "The response utterance is produced token by token by the decoder RNN. It generates the next word in the sequence using the encoder's context vectors and internal hidden states. It keeps producing words until it reaches the end of the sentence, which is represented by an end_token. A common issue with a standard seq2seq decoder is that relying solely on the context vector to encode the meaning of the complete input sequence would almost certainly result in information loss. This is particularly true when dealing with long input sequences, severely restricting our decoder's capabilities.\n",
        "\n",
        "[Bahdanau et al.](https://arxiv.org/abs/1409.0473) devised an \"attention mechanism\" that allows the decoder to focus on specific parts of the input sequence rather than using the whole set context at each step to deal with information loss. Attention is determined using the encoder's outputs and the decoder's current hidden state. Since the output attention weights have the same shape as the input sequence, we may multiply them by the encoder outputs to get a weighted amount that shows which sections of the encoder output to focus on.\n",
        "\n",
        "**For the second task you need to create the decoder with attention. Call the attention layer and use GRUs for decoding.**"
      ]
    },
    {
      "cell_type": "code",
      "metadata": {
        "id": "KssO1KLzId2d"
      },
      "source": [
        "class BahdanauAttention(tf.keras.layers.Layer):\n",
        "    def __init__(self, units):\n",
        "        super(BahdanauAttention, self).__init__()\n",
        "        self.W1 = tf.keras.layers.Dense(units)\n",
        "        self.W2 = tf.keras.layers.Dense(units)\n",
        "        self.V = tf.keras.layers.Dense(1)\n",
        "        self.units = units\n",
        "        \n",
        "    def call(self, query, values):\n",
        "        \n",
        "        # query hidden state shape == (batch_size, hidden size)\n",
        "        # query_with_time_axis shape == (batch_size, 1, hidden size)\n",
        "        # values shape == (batch_size, max_len, hidden size)\n",
        "        # we are doing this to broadcast addition along the time axis to calculate the score\n",
        "        query_with_time_axis = tf.expand_dims(query, 1)\n",
        "\n",
        "        # score shape == (batch_size, max_length, 1)\n",
        "        # we get 1 at the last axis because we are applying score to self.V\n",
        "        # the shape of the tensor before applying self.V is (batch_size, max_length, units)\n",
        "        score = self.V(tf.nn.tanh(\n",
        "            self.W1(query_with_time_axis) + self.W2(values)))\n",
        "\n",
        "        # attention_weights shape == (batch_size, max_length, 1)\n",
        "        attention_weights = tf.nn.softmax(score, axis=1)\n",
        "\n",
        "        # context_vector shape after sum == (batch_size, hidden_size)\n",
        "        context_vector = attention_weights * values\n",
        "        context_vector = tf.reduce_sum(context_vector, axis=1)\n",
        "\n",
        "        return context_vector, attention_weights"
      ],
      "execution_count": 14,
      "outputs": []
    },
    {
      "cell_type": "code",
      "metadata": {
        "id": "Pyo_ifo5IhLx"
      },
      "source": [
        "class Decoder(tf.keras.Model):\n",
        "    def __init__(self, vocab_size, embedding_dim, dec_units):\n",
        "        super(Decoder, self).__init__()\n",
        "        self.batch_sz = batch_size\n",
        "        self.embeddings = embeddings\n",
        "        self.units = 2 * dec_units # because we use bidirectional encoder\n",
        "        self.fc = Dense(vocab_len, activation='softmax', name='dense_layer')\n",
        "        self.dropout = Dropout(0.2)\n",
        "        # Create the decoder with attention\n",
        "\n",
        "        self.attention = BahdanauAttention(self.units)\n",
        "\n",
        "        self.decoder_gru_l1 = Bidirectional(GRU(self.units, return_sequences=True, return_state=False, recurrent_initializer = 'glorot_uniform'))\n",
        "        self.decoder_gru_l2 = (GRU(self.units, return_sequences=False, return_state=True, recurrent_initializer = 'glorot_uniform'))\n",
        "\n",
        "\n",
        "    def call(self, x, hidden, enc_output):\n",
        "\n",
        "        # enc_output shape == (batch_size, max_length, hidden_size)\n",
        "        context_vector, attention_weights = self.attention(hidden, enc_output)\n",
        "\n",
        "        # x shape after passing through embedding == (batch_size, 1, embedding_dim)\n",
        "        x = self.embeddings(x)\n",
        "\n",
        "        # x shape after concatenation == (batch_size, 1, embedding_dim + hidden_size)\n",
        "        x = tf.concat([tf.expand_dims(context_vector, 1), x], axis=-1) # concat input and context vector together\n",
        "\n",
        "        # passing the concatenated vector to the GRU\n",
        "        x = self.decoder_gru_l1(x)\n",
        "        x = self.dropout(x)\n",
        "        x = self.decoder_gru_l2(x)\n",
        "        output, state = x\n",
        "        x = self.fc(output)\n",
        "        return x, state, attention_weights"
      ],
      "execution_count": 15,
      "outputs": []
    },
    {
      "cell_type": "markdown",
      "metadata": {
        "id": "28vAn3ZmnARQ"
      },
      "source": [
        "<font color = \"#75a2eb\"><b>Here we created a bidirectional layer in which we pass the GRU layer as we did for the encoder. Finally we created a standalone GRU layer with the units defined as the parameter.</b></font>"
      ]
    },
    {
      "cell_type": "code",
      "metadata": {
        "id": "UeMvjzzVIjVR"
      },
      "source": [
        "decoder = Decoder(vocab_len, 50, GRU_units)\n"
      ],
      "execution_count": 16,
      "outputs": []
    },
    {
      "cell_type": "markdown",
      "metadata": {
        "id": "67WV-Fnb_VvJ"
      },
      "source": [
        "# Evaluation"
      ]
    },
    {
      "cell_type": "markdown",
      "metadata": {
        "id": "ZJPZPKIpeGGN"
      },
      "source": [
        "We can now write functions to evaluate a string input sentence now that we've established our decoding process. The evaluate function is in charge of the low-level handling of the input sentence. The sentence is first formatted as an input batch of word indexes. To prepare the tensor for our models, we convert the words of the sentence to their corresponding indexes and transpose the dimensions. Our system's user interface is called answer. Our text is normalised in the same way that our training data is, and then fed into the evaluate function to generate a decoded output sentence and attention weights."
      ]
    },
    {
      "cell_type": "code",
      "metadata": {
        "id": "mVSbB_kLIo3p"
      },
      "source": [
        "import unicodedata\n",
        "import matplotlib.ticker as ticker\n",
        "\n",
        "# function for plotting the attention weights\n",
        "def plot_attention(attention, sentence, predicted_sentence):\n",
        "    fig = plt.figure(figsize=(5,5))\n",
        "    ax = fig.add_subplot(1, 1, 1)\n",
        "    ax.matshow(attention, cmap='viridis')\n",
        "\n",
        "    fontdict = {'fontsize': 14}\n",
        "\n",
        "    ax.set_xticklabels([''] + sentence, fontdict=fontdict, rotation=90)\n",
        "    ax.set_yticklabels([''] + predicted_sentence, fontdict=fontdict)\n",
        "\n",
        "    ax.xaxis.set_major_locator(ticker.MultipleLocator(1))\n",
        "    ax.yaxis.set_major_locator(ticker.MultipleLocator(1))\n",
        "    \n",
        "    plt.show()\n",
        "\n",
        "def unicode_to_ascii(s):\n",
        "    return ''.join(c for c in unicodedata.normalize('NFD', s)\n",
        "      if unicodedata.category(c) != 'Mn')\n",
        "\n",
        "def evaluate(sentence):\n",
        "    \n",
        "    attention_plot = np.zeros((max_len_a, max_len_q))\n",
        "\n",
        "    sentence = unicode_to_ascii(sentence.lower())\n",
        "    inputs = [wordtoix[i] for i in sentence.split(' ')]\n",
        "    inputs = [wordtoix[start_token]]+inputs+[wordtoix[end_token]]\n",
        "    inputs = pad_sequences([inputs],maxlen=max_len_q, padding='post')\n",
        "\n",
        "    inputs = tf.convert_to_tensor(inputs)\n",
        "\n",
        "    result = ''\n",
        "\n",
        "    hidden = [tf.zeros((1, GRU_units))]\n",
        "    enc_out, enc_hidden_f, enc_hidden_b = encoder(inputs, hidden)\n",
        "\n",
        "    dec_hidden = Concatenate(axis=-1)([enc_hidden_f, enc_hidden_b])\n",
        "    dec_input = tf.expand_dims([wordtoix[start_token]], 1)\n",
        "\n",
        "    for t in range(max_len_a):\n",
        "        predictions, dec_hidden, attention_weights = decoder(dec_input,\n",
        "                                                             dec_hidden,\n",
        "                                                             enc_out)\n",
        "\n",
        "        attention_weights = tf.reshape(attention_weights, (-1, ))\n",
        "        attention_plot[t] = K.get_value(attention_weights)\n",
        "        \n",
        "        predicted_id =  K.get_value(tf.argmax(predictions[0]))       \n",
        "\n",
        "        if ixtoword[predicted_id] == end_token:\n",
        "            return result, sentence, attention_plot\n",
        "        \n",
        "        result += ixtoword[predicted_id] + ' '\n",
        "        # the predicted ID is fed back into the model\n",
        "        dec_input = tf.expand_dims([predicted_id], 1)\n",
        "\n",
        "    return result, sentence, attention_plot\n",
        "\n",
        "def answer(sentence, training=False):\n",
        "    result, sentence, attention_plot = evaluate(sentence)\n",
        "    \n",
        "    if training:\n",
        "        return result\n",
        "    \n",
        "    print('Input: %s' % (sentence))\n",
        "    print('Predicted answer: {}'.format(result))\n",
        "    attention_plot = attention_plot[1:len(result.split(' ')), :len(sentence.split(' '))]\n",
        "    plot_attention(attention_plot, sentence.split(' '), result.split(' ')[:-1])"
      ],
      "execution_count": 17,
      "outputs": []
    },
    {
      "cell_type": "markdown",
      "metadata": {
        "id": "Kl-ffZTS_dtP"
      },
      "source": [
        "# Greedy decoding"
      ]
    },
    {
      "cell_type": "markdown",
      "metadata": {
        "id": "xacfBuH7dxUw"
      },
      "source": [
        "Greedy decoding is a decoding method in which we simply choose the highest softmax value word from decoder output for each time stage. On a single time-step stage, this decoding method is optimal. It is common in neural machine translation systems to use a beam-search to sample the probabilities for the words in the sequence output by the model.\n",
        "\n",
        "The wider the beam width, the more exhaustive the search, and, it is believed, the better the results.\n",
        "\n",
        "The results showed that a modest beam-width of 3-5 performed the best, which could be improved only very slightly through the use of length penalties. "
      ]
    },
    {
      "cell_type": "code",
      "metadata": {
        "id": "pa46aAvvIvsx"
      },
      "source": [
        "def beam_search(sentence, k=5, maxsample=max_len_a, use_unk=False, oov=None, eos=end_token):\n",
        "\n",
        "    \n",
        "    dead_k = 0 # samples that reached eos\n",
        "    dead_samples = []\n",
        "    dead_scores = []\n",
        "    live_k = 1 # samples that did not yet reached eos\n",
        "    live_samples = [[wordtoix[start_token]]]\n",
        "    live_scores = [0]\n",
        "\n",
        "    sentence = unicode_to_ascii(sentence.lower())\n",
        "    inputs = [wordtoix[i] for i in sentence.split(' ')]\n",
        "    inputs = [wordtoix[start_token]]+inputs+[wordtoix[end_token]]\n",
        "    inputs = pad_sequences([inputs],maxlen=max_len_q, padding='post')\n",
        "\n",
        "    inputs = tf.convert_to_tensor(inputs)\n",
        "\n",
        "    hidden = [tf.zeros((1, GRU_units))]\n",
        "    enc_out, enc_hidden_f, enc_hidden_b = encoder(inputs, hidden)\n",
        "\n",
        "    dec_hidden = Concatenate(axis=-1)([enc_hidden_f, enc_hidden_b])\n",
        "    dec_input = tf.expand_dims([wordtoix[start_token]], 0)\n",
        "        \n",
        "    while live_k and dead_k < k:\n",
        "        # for every possible live sample calc prob for every possible label \n",
        "        predictions, dec_hidden, _ = decoder(dec_input,dec_hidden,enc_out)\n",
        "        probs = K.get_value(predictions[0])\n",
        "        # total score for every sample is sum of -log of word prb\n",
        "        cand_scores = np.array(live_scores)[:,None] - np.log(probs)\n",
        "        if not use_unk and oov is not None:\n",
        "            cand_scores[:,oov] = 1e20\n",
        "        cand_flat = cand_scores.flatten()\n",
        "\n",
        "        # find the best (lowest) scores we have from all possible samples and new words\n",
        "        ranks_flat = cand_flat.argsort()[:(k-dead_k)]\n",
        "        live_scores = cand_flat[ranks_flat]\n",
        "\n",
        "        # append the new words to their appropriate live sample\n",
        "        voc_size = vocab_len\n",
        "        live_samples = [live_samples[r//voc_size]+[r%voc_size] for r in ranks_flat]\n",
        "\n",
        "        # live samples that should be dead are...\n",
        "        zombie = [s[-1] == eos or len(s) >= maxsample for s in live_samples]\n",
        "        \n",
        "        # add zombies to the dead\n",
        "        dead_samples += [s for s,z in zip(live_samples,zombie) if z]  # remove first label == empty\n",
        "        dead_scores += [s for s,z in zip(live_scores,zombie) if z]\n",
        "        dead_k = len(dead_samples)\n",
        "        # remove zombies from the living \n",
        "        live_samples = [s for s,z in zip(live_samples,zombie) if not z]\n",
        "        live_scores = [s for s,z in zip(live_scores,zombie) if not z]\n",
        "        live_k = len(live_samples)\n",
        "\n",
        "    final_samples = dead_samples + live_samples\n",
        "    final_scores = dead_scores + live_scores   \n",
        "    \n",
        "    # cutting the strong where end_token is encounterd\n",
        "    for i in range(len(final_scores)):\n",
        "        final_scores[i] /= len(final_samples[i]) # normalizing the scores\n",
        "    \n",
        "    final_result =[]\n",
        "    \n",
        "    for i in range(len(final_scores)):\n",
        "        final_result.append((final_scores[i],final_samples[i]))\n",
        "    \n",
        "    final_list_ix = max(final_result)[1]\n",
        "    final_list_word = [ixtoword[f] for f in final_list_ix]\n",
        "    final_sentence = ' '.join(final_list_word[1:])\n",
        "    end_ix = final_sentence.find(end_token)\n",
        "    return final_sentence[:end_ix]"
      ],
      "execution_count": 18,
      "outputs": []
    },
    {
      "cell_type": "markdown",
      "metadata": {
        "id": "tDhPN8kj-4Da"
      },
      "source": [
        "# Training procedure"
      ]
    },
    {
      "cell_type": "markdown",
      "metadata": {
        "id": "XYjEUAtO--f_"
      },
      "source": [
        "# Masked loss"
      ]
    },
    {
      "cell_type": "markdown",
      "metadata": {
        "id": "puOSiJijaOwW"
      },
      "source": [
        "We can't simply consider all elements of the tensor when evaluating loss because we're dealing with batches of padded sequences. Based on our decoder's output tensor, the target tensor, and a binary mask tensor describing the padding of the target tensor, we define a function to measure our loss."
      ]
    },
    {
      "cell_type": "code",
      "metadata": {
        "id": "xN3CisgKIy7W"
      },
      "source": [
        "optimizer = tf.keras.optimizers.Adam(init_lr)\n",
        "\n",
        "def loss_function(real, pred):\n",
        "\n",
        "    mask = tf.math.logical_not(tf.math.equal(real, 0))\n",
        "    loss_ = K.sparse_categorical_crossentropy(real, pred, from_logits= False)\n",
        "\n",
        "    mask = tf.cast(mask, dtype=loss_.dtype)\n",
        "    loss_ *= mask\n",
        "\n",
        "    return tf.reduce_mean(loss_)\n"
      ],
      "execution_count": 19,
      "outputs": []
    },
    {
      "cell_type": "code",
      "metadata": {
        "id": "832td4vpI1Ok"
      },
      "source": [
        "# checkpoint_dir = './training_checkpoints'\n",
        "checkpoint_prefix = os.path.join(str(emb_dim)+\"-ckpt\")\n",
        "checkpoint = tf.train.Checkpoint(optimizer=optimizer,\n",
        "                                 encoder=encoder,\n",
        "                                 decoder=decoder)\n"
      ],
      "execution_count": 20,
      "outputs": []
    },
    {
      "cell_type": "markdown",
      "metadata": {
        "id": "ZbaDnfr3_Elp"
      },
      "source": [
        "# Single training iteration"
      ]
    },
    {
      "cell_type": "markdown",
      "metadata": {
        "id": "ZfRcNM1TbJcs"
      },
      "source": [
        "The algorithm for a single training iteration is contained in the train_step function (a single batch of inputs). To help with convergence, we'll use teacher forcing. This means that we use the current target word as the decoder's next input rather than the decoder's current guess in some probabilities. This technique serves as decoder training wheels, allowing for more effective training. However, since the decoder may not have had enough time to truly craft its own output sequences during training, teacher forcing can lead to model instability during inference. \n",
        "\n"
      ]
    },
    {
      "cell_type": "code",
      "metadata": {
        "id": "7yeWUoboI8JK"
      },
      "source": [
        "@tf.function\n",
        "def train_step(inp, targ, enc_hidden):\n",
        "    loss = 0\n",
        "    with tf.GradientTape() as tape:\n",
        "        enc_output, enc_hidden_f, enc_hidden_b = encoder(inp, enc_hidden)\n",
        "        \n",
        "        dec_hidden = Concatenate(axis=-1)([enc_hidden_f, enc_hidden_b])\n",
        "        dec_input = tf.expand_dims([wordtoix[start_token]] * batch_size, 1) # dec_input initially == start_token\n",
        "\n",
        "        # Teacher forcing - feeding the target as the next input\n",
        "        for t in range(1, targ.shape[1]):\n",
        "            \n",
        "            # passing enc_output to the decoder\n",
        "            predictions, dec_hidden, _ = decoder(dec_input, dec_hidden, enc_output)\n",
        "            loss += loss_function(targ[:, t], predictions) # each time just use one timestep output\n",
        "            # using teacher forcing\n",
        "            dec_input = tf.expand_dims(targ[:, t], 1) # expected output at this time becomes input for next timestep\n",
        "            \n",
        "    batch_loss = (loss / int(targ.shape[1]))\n",
        "    variables = encoder.trainable_variables + decoder.trainable_variables\n",
        "    gradients = tape.gradient(loss, variables)\n",
        "    optimizer.apply_gradients(zip(gradients, variables))\n",
        "    \n",
        "    return batch_loss"
      ],
      "execution_count": 21,
      "outputs": []
    },
    {
      "cell_type": "code",
      "metadata": {
        "id": "eH-SlVY_JA3n"
      },
      "source": [
        "history={'loss':[]}\n",
        "smallest_loss = np.inf\n",
        "best_ep = 1\n",
        "EPOCHS = 150 # but 150 is enough\n",
        "enc_hidden = encoder.initialize_hidden_state()\n",
        "steps_per_epoch = len(pairs_final_train)//batch_size # used for caculating number of batches\n",
        "current_ep = 1\n"
      ],
      "execution_count": 22,
      "outputs": []
    },
    {
      "cell_type": "markdown",
      "metadata": {
        "id": "snJApfQJ4WmT"
      },
      "source": [
        "We are creating a test_bot to monitor our training in every time step."
      ]
    },
    {
      "cell_type": "code",
      "metadata": {
        "id": "BsYIKbz1JC7Y"
      },
      "source": [
        "def test_bot(k = 5, beam = False):\n",
        "    print('#'*20)\n",
        "    q = 'Hello'\n",
        "    print('Greedy| Q:',q,'  A:',answer(q, training=True))\n",
        "    if beam:print('Beam ',k,'| ',q,'  A:',beam_search(q,k=k))\n",
        "    print('%')\n",
        "    q = 'How are you'\n",
        "    print('Greedy| Q:',q,'?  A:',answer(q, training=True))\n",
        "    if beam:print('Beam ',k,'| ',q,'?  A:',beam_search(q,k=k))\n",
        "    print('%')\n",
        "\n",
        "    q = 'What are you doing'\n",
        "    print('Greedy| Q:',q,'?  A:',answer(q, training=True))\n",
        "    if beam:print('Beam ',k,'| ',q,'?  A:',beam_search(q,k=k))\n",
        "    print('%')\n",
        "    q = 'What is your favorite restaurant'\n",
        "    print('Greedy| Q:',q,'?  A:',answer(q, training=True))\n",
        "    if beam:print('Beam ',k,'| ',q,'?  A:',beam_search(q,k=k))\n",
        "    print('%')\n",
        "  \n",
        "    q = 'Do you want to go out'\n",
        "    print('Greedy| Q:',q,'?  A:',answer(q, training=True))\n",
        "    if beam:print('Beam ',k,'| ',q,'?  A:',beam_search(q,k=k))\n",
        "    print('#'*20)"
      ],
      "execution_count": 23,
      "outputs": []
    },
    {
      "cell_type": "markdown",
      "metadata": {
        "id": "rPFs5cNX_OuX"
      },
      "source": [
        "# Training iterations"
      ]
    },
    {
      "cell_type": "markdown",
      "metadata": {
        "id": "gz9who24c69J"
      },
      "source": [
        "It's finally time to link the entire training procedure to the data. Given the passed models, optimizers, data, and so on, the function is responsible for running n iterations of training. We've already done the heavy lifting with the train_step function, so this function is self-explanatory.\n",
        "\n",
        "One thing to keep in mind is that when we save our model, the encoder and decoder parameters, the optimizer parameters, the loss, the iteration, and so on are all saved. This method of saving the model will give us the most flexibility with the checkpoint. We can use the model parameters to run inference after loading a checkpoint, or we can begin training where we left off."
      ]
    },
    {
      "cell_type": "code",
      "metadata": {
        "colab": {
          "base_uri": "https://localhost:8080/"
        },
        "id": "eiyRgx866ClR",
        "outputId": "2bd2cbe7-c657-42ef-e08d-7cbcb24d71ad"
      },
      "source": [
        "checkpoint.restore(str(emb_dim)+\"-ckpt-5\")"
      ],
      "execution_count": 26,
      "outputs": [
        {
          "output_type": "execute_result",
          "data": {
            "text/plain": [
              "<tensorflow.python.training.tracking.util.CheckpointLoadStatus at 0x7fd20d68d7d0>"
            ]
          },
          "metadata": {
            "tags": []
          },
          "execution_count": 26
        }
      ]
    },
    {
      "cell_type": "code",
      "metadata": {
        "colab": {
          "base_uri": "https://localhost:8080/",
          "height": 1000
        },
        "id": "tEqZLz3wJHm0",
        "outputId": "12e99610-b1fc-4679-ae5c-85a66e4ac9b5"
      },
      "source": [
        "batch_loss = K.constant(0)\n",
        "X, y = [], []\n",
        "def plot_history():\n",
        "    plt.figure(figsize=(4,3))\n",
        "    plt.plot(best_ep,smallest_loss,'ro')\n",
        "    plt.plot(history['loss'],'b-')\n",
        "    plt.legend(['best','loss'])\n",
        "    plt.show()\n",
        "\n",
        "for ep in range(current_ep,EPOCHS):\n",
        "    current_ep = ep    \n",
        "    start = time.time()\n",
        "    total_loss = 0\n",
        "    btch = 1\n",
        "\n",
        "    for p in pairs_final_train:     \n",
        "        \n",
        "        question = p[0]\n",
        "        label = p[1]\n",
        "        # find the index of each word of the caption in vocabulary\n",
        "        question_seq = [wordtoix[word] for word in question.split(' ') if word in wordtoix]\n",
        "        label_seq = [wordtoix[word] for word in label.split(' ') if word in wordtoix]\n",
        "        # encoder input and decoder input and label\n",
        "        enc_in_seq = pad_sequences([question_seq], maxlen=max_len_q, padding='post')[0]\n",
        "        dec_out_seq = pad_sequences([label_seq], maxlen=max_len_a, padding='post')[0]\n",
        "        \n",
        "        X.append(enc_in_seq)\n",
        "        y.append(dec_out_seq)\n",
        "\n",
        "        if len(X) == batch_size :\n",
        "            batch_loss = train_step(np.array(X), np.array(y), enc_hidden)\n",
        "            total_loss += batch_loss\n",
        "            X , y = [], []\n",
        "            btch += 1\n",
        "            if btch % (steps_per_epoch//6) == 0:\n",
        "                print('Epoch {} Batch {} Loss: {:.4f}'.format(ep , btch, K.get_value(batch_loss)))\n",
        "\n",
        "    epoch_loss =  K.get_value(total_loss) / steps_per_epoch\n",
        "    print('\\n*** Epoch {} Loss {:.4f} ***\\n'.format(ep ,epoch_loss))\n",
        "    history['loss'].append(epoch_loss)\n",
        "    \n",
        "    checkpoint.save(file_prefix = checkpoint_prefix)\n",
        "    test_bot(k=5)\n",
        "\n",
        "    if epoch_loss < smallest_loss:\n",
        "        smallest_loss = epoch_loss\n",
        "        best_ep = ep \n",
        "        print('check point saved!')\n",
        "    \n",
        "    if ep % 5 == 0:\n",
        "        plot_history()\n",
        "        \n",
        "    print('Best epoch so far: ',best_ep)\n",
        "    print('Time  {:.3f} sec\\n'.format(time.time() - start))\n",
        "\n",
        "    print('=' * 40)"
      ],
      "execution_count": 27,
      "outputs": [
        {
          "output_type": "stream",
          "text": [
            "Epoch 6 Batch 598 Loss: 1.5692\n",
            "Epoch 6 Batch 1196 Loss: 1.8784\n",
            "Epoch 6 Batch 1794 Loss: 1.7752\n",
            "Epoch 6 Batch 2392 Loss: 1.8425\n",
            "Epoch 6 Batch 2990 Loss: 1.6500\n",
            "Epoch 6 Batch 3588 Loss: 1.8659\n",
            "\n",
            "*** Epoch 6 Loss 1.7009 ***\n",
            "\n",
            "####################\n",
            "Greedy| Q: Hello   A: hi \n",
            "%\n",
            "Greedy| Q: How are you ?  A: i am not going to be a good idea \n",
            "%\n",
            "Greedy| Q: What are you doing ?  A: i am not going to be a good idea \n",
            "%\n",
            "Greedy| Q: What is your favorite restaurant ?  A: i am not going to be a good idea \n",
            "%\n",
            "Greedy| Q: Do you want to go out ?  A: i am not going to be a good idea \n",
            "####################\n",
            "check point saved!\n",
            "Best epoch so far:  6\n",
            "Time  290.991 sec\n",
            "\n",
            "========================================\n",
            "Epoch 7 Batch 598 Loss: 1.5736\n",
            "Epoch 7 Batch 1196 Loss: 2.0863\n",
            "Epoch 7 Batch 1794 Loss: 2.1029\n",
            "Epoch 7 Batch 2392 Loss: 2.1322\n",
            "Epoch 7 Batch 2990 Loss: 1.6121\n",
            "Epoch 7 Batch 3588 Loss: 1.9895\n",
            "\n",
            "*** Epoch 7 Loss 1.6834 ***\n",
            "\n",
            "####################\n",
            "Greedy| Q: Hello   A: hi \n",
            "%\n",
            "Greedy| Q: How are you ?  A: i am not going to be a good idea \n",
            "%\n",
            "Greedy| Q: What are you doing ?  A: i am not going to be a good time \n",
            "%\n",
            "Greedy| Q: What is your favorite restaurant ?  A: i am not going to be a good time \n",
            "%\n",
            "Greedy| Q: Do you want to go out ?  A: i am not going to be a good idea \n",
            "####################\n",
            "check point saved!\n",
            "Best epoch so far:  7\n",
            "Time  285.631 sec\n",
            "\n",
            "========================================\n",
            "Epoch 8 Batch 598 Loss: 1.5356\n",
            "Epoch 8 Batch 1196 Loss: 2.2432\n",
            "Epoch 8 Batch 1794 Loss: 2.0770\n",
            "Epoch 8 Batch 2392 Loss: 2.1096\n",
            "Epoch 8 Batch 2990 Loss: 1.7261\n",
            "Epoch 8 Batch 3588 Loss: 2.1621\n",
            "\n",
            "*** Epoch 8 Loss 1.6681 ***\n",
            "\n",
            "####################\n",
            "Greedy| Q: Hello   A: hi \n",
            "%\n",
            "Greedy| Q: How are you ?  A: i am not going to be a good time \n",
            "%\n",
            "Greedy| Q: What are you doing ?  A: i am not going to be a good time \n",
            "%\n",
            "Greedy| Q: What is your favorite restaurant ?  A: i am not going to be a good time \n",
            "%\n",
            "Greedy| Q: Do you want to go out ?  A: i am not going to do \n",
            "####################\n",
            "check point saved!\n",
            "Best epoch so far:  8\n",
            "Time  285.264 sec\n",
            "\n",
            "========================================\n",
            "Epoch 9 Batch 598 Loss: 1.3652\n",
            "Epoch 9 Batch 1196 Loss: 2.2936\n",
            "Epoch 9 Batch 1794 Loss: 1.9201\n",
            "Epoch 9 Batch 2392 Loss: 1.9903\n",
            "Epoch 9 Batch 2990 Loss: 1.7538\n",
            "Epoch 9 Batch 3588 Loss: 2.0242\n",
            "\n",
            "*** Epoch 9 Loss 1.6547 ***\n",
            "\n",
            "####################\n",
            "Greedy| Q: Hello   A: hello \n",
            "%\n",
            "Greedy| Q: How are you ?  A: i am not going to be a good time \n",
            "%\n",
            "Greedy| Q: What are you doing ?  A: i am not going to be a good time \n",
            "%\n",
            "Greedy| Q: What is your favorite restaurant ?  A: i am not going to be a good time \n",
            "%\n",
            "Greedy| Q: Do you want to go out ?  A: i am not going to do \n",
            "####################\n",
            "check point saved!\n",
            "Best epoch so far:  9\n",
            "Time  284.893 sec\n",
            "\n",
            "========================================\n",
            "Epoch 10 Batch 598 Loss: 1.3843\n",
            "Epoch 10 Batch 1196 Loss: 2.0094\n",
            "Epoch 10 Batch 1794 Loss: 1.8275\n",
            "Epoch 10 Batch 2392 Loss: 1.9676\n",
            "Epoch 10 Batch 2990 Loss: 1.7085\n",
            "Epoch 10 Batch 3588 Loss: 1.9745\n",
            "\n",
            "*** Epoch 10 Loss 1.6429 ***\n",
            "\n",
            "####################\n",
            "Greedy| Q: Hello   A: hello \n",
            "%\n",
            "Greedy| Q: How are you ?  A: i am not going to be a good idea \n",
            "%\n",
            "Greedy| Q: What are you doing ?  A: i am not going to do \n",
            "%\n",
            "Greedy| Q: What is your favorite restaurant ?  A: i am not going to be a good time \n",
            "%\n",
            "Greedy| Q: Do you want to go out ?  A: i am not going to do \n",
            "####################\n",
            "check point saved!\n"
          ],
          "name": "stdout"
        },
        {
          "output_type": "display_data",
          "data": {
            "image/png": "[encoded data removed]",
            "text/plain": [
              "<Figure size 288x216 with 1 Axes>"
            ]
          },
          "metadata": {
            "tags": [],
            "needs_background": "light"
          }
        },
        {
          "output_type": "stream",
          "text": [
            "Best epoch so far:  10\n",
            "Time  285.406 sec\n",
            "\n",
            "========================================\n",
            "Epoch 11 Batch 598 Loss: 1.4763\n",
            "Epoch 11 Batch 1196 Loss: 1.8206\n",
            "Epoch 11 Batch 1794 Loss: 1.6911\n",
            "Epoch 11 Batch 2392 Loss: 1.8618\n",
            "Epoch 11 Batch 2990 Loss: 1.5269\n",
            "Epoch 11 Batch 3588 Loss: 1.7676\n",
            "\n",
            "*** Epoch 11 Loss 1.6318 ***\n",
            "\n",
            "####################\n",
            "Greedy| Q: Hello   A: hello \n",
            "%\n",
            "Greedy| Q: How are you ?  A: i am not going to do \n",
            "%\n",
            "Greedy| Q: What are you doing ?  A: i am not going to do \n",
            "%\n",
            "Greedy| Q: What is your favorite restaurant ?  A: i am not going to be a good time \n",
            "%\n",
            "Greedy| Q: Do you want to go out ?  A: i am not going to do \n",
            "####################\n",
            "check point saved!\n",
            "Best epoch so far:  11\n",
            "Time  287.197 sec\n",
            "\n",
            "========================================\n",
            "Epoch 12 Batch 598 Loss: 1.5758\n",
            "Epoch 12 Batch 1196 Loss: 1.9996\n",
            "Epoch 12 Batch 1794 Loss: 1.9890\n",
            "Epoch 12 Batch 2392 Loss: 2.0609\n",
            "Epoch 12 Batch 2990 Loss: 1.4625\n",
            "Epoch 12 Batch 3588 Loss: 1.8554\n",
            "\n",
            "*** Epoch 12 Loss 1.6225 ***\n",
            "\n",
            "####################\n",
            "Greedy| Q: Hello   A: hello \n",
            "%\n",
            "Greedy| Q: How are you ?  A: i am not going to do \n",
            "%\n",
            "Greedy| Q: What are you doing ?  A: i am not going to do \n",
            "%\n",
            "Greedy| Q: What is your favorite restaurant ?  A: i am not going to be a good time \n",
            "%\n",
            "Greedy| Q: Do you want to go out ?  A: i am not going to do \n",
            "####################\n",
            "check point saved!\n",
            "Best epoch so far:  12\n",
            "Time  288.884 sec\n",
            "\n",
            "========================================\n",
            "Epoch 13 Batch 598 Loss: 1.5255\n",
            "Epoch 13 Batch 1196 Loss: 2.0939\n",
            "Epoch 13 Batch 1794 Loss: 1.9880\n",
            "Epoch 13 Batch 2392 Loss: 2.0164\n",
            "Epoch 13 Batch 2990 Loss: 1.6726\n",
            "Epoch 13 Batch 3588 Loss: 1.9405\n",
            "\n",
            "*** Epoch 13 Loss 1.6137 ***\n",
            "\n",
            "####################\n",
            "Greedy| Q: Hello   A: hello \n",
            "%\n",
            "Greedy| Q: How are you ?  A: i am not going to do \n",
            "%\n",
            "Greedy| Q: What are you doing ?  A: i am not going to do \n",
            "%\n",
            "Greedy| Q: What is your favorite restaurant ?  A: i am sorry \n",
            "%\n",
            "Greedy| Q: Do you want to go out ?  A: i am not going to do \n",
            "####################\n",
            "check point saved!\n",
            "Best epoch so far:  13\n",
            "Time  286.772 sec\n",
            "\n",
            "========================================\n",
            "Epoch 14 Batch 598 Loss: 1.4010\n",
            "Epoch 14 Batch 1196 Loss: 2.1394\n",
            "Epoch 14 Batch 1794 Loss: 2.0429\n",
            "Epoch 14 Batch 2392 Loss: 1.9250\n",
            "Epoch 14 Batch 2990 Loss: 1.7128\n",
            "Epoch 14 Batch 3588 Loss: 1.9324\n",
            "\n",
            "*** Epoch 14 Loss 1.6054 ***\n",
            "\n",
            "####################\n",
            "Greedy| Q: Hello   A: hello \n",
            "%\n",
            "Greedy| Q: How are you ?  A: i am not going to do \n",
            "%\n",
            "Greedy| Q: What are you doing ?  A: i am not going to do \n",
            "%\n",
            "Greedy| Q: What is your favorite restaurant ?  A: i am sorry \n",
            "%\n",
            "Greedy| Q: Do you want to go out ?  A: i am not going to do \n",
            "####################\n",
            "check point saved!\n",
            "Best epoch so far:  14\n",
            "Time  290.116 sec\n",
            "\n",
            "========================================\n",
            "Epoch 15 Batch 598 Loss: 1.4036\n",
            "Epoch 15 Batch 1196 Loss: 2.0455\n",
            "Epoch 15 Batch 1794 Loss: 1.9079\n",
            "Epoch 15 Batch 2392 Loss: 1.8508\n",
            "Epoch 15 Batch 2990 Loss: 1.7049\n",
            "Epoch 15 Batch 3588 Loss: 1.9642\n",
            "\n",
            "*** Epoch 15 Loss 1.5977 ***\n",
            "\n",
            "####################\n",
            "Greedy| Q: Hello   A: hello \n",
            "%\n",
            "Greedy| Q: How are you ?  A: i am not going to do \n",
            "%\n",
            "Greedy| Q: What are you doing ?  A: i am not going to do \n",
            "%\n",
            "Greedy| Q: What is your favorite restaurant ?  A: i am sorry \n",
            "%\n",
            "Greedy| Q: Do you want to go out ?  A: i am not going to do \n",
            "####################\n",
            "check point saved!\n"
          ],
          "name": "stdout"
        },
        {
          "output_type": "display_data",
          "data": {
            "image/png": "[encoded data removed]",
            "text/plain": [
              "<Figure size 288x216 with 1 Axes>"
            ]
          },
          "metadata": {
            "tags": [],
            "needs_background": "light"
          }
        },
        {
          "output_type": "stream",
          "text": [
            "Best epoch so far:  15\n",
            "Time  285.842 sec\n",
            "\n",
            "========================================\n",
            "Epoch 16 Batch 598 Loss: 1.4504\n",
            "Epoch 16 Batch 1196 Loss: 1.7887\n",
            "Epoch 16 Batch 1794 Loss: 1.5987\n",
            "Epoch 16 Batch 2392 Loss: 1.8690\n",
            "Epoch 16 Batch 2990 Loss: 1.5129\n",
            "Epoch 16 Batch 3588 Loss: 1.7644\n",
            "\n",
            "*** Epoch 16 Loss 1.5903 ***\n",
            "\n",
            "####################\n",
            "Greedy| Q: Hello   A: hello \n",
            "%\n",
            "Greedy| Q: How are you ?  A: i am not going to do \n",
            "%\n",
            "Greedy| Q: What are you doing ?  A: i am not going to do \n",
            "%\n",
            "Greedy| Q: What is your favorite restaurant ?  A: i am sorry \n",
            "%\n",
            "Greedy| Q: Do you want to go out ?  A: i am not going to do \n",
            "####################\n",
            "check point saved!\n",
            "Best epoch so far:  16\n",
            "Time  285.642 sec\n",
            "\n",
            "========================================\n",
            "Epoch 17 Batch 598 Loss: 1.5655\n",
            "Epoch 17 Batch 1196 Loss: 1.9184\n",
            "Epoch 17 Batch 1794 Loss: 1.8380\n",
            "Epoch 17 Batch 2392 Loss: 2.0279\n",
            "Epoch 17 Batch 2990 Loss: 1.3851\n",
            "Epoch 17 Batch 3588 Loss: 1.7606\n",
            "\n",
            "*** Epoch 17 Loss 1.5838 ***\n",
            "\n",
            "####################\n",
            "Greedy| Q: Hello   A: hello \n",
            "%\n",
            "Greedy| Q: How are you ?  A: i am not going to do \n",
            "%\n",
            "Greedy| Q: What are you doing ?  A: i am not going to do \n",
            "%\n",
            "Greedy| Q: What is your favorite restaurant ?  A: i am sorry \n",
            "%\n",
            "Greedy| Q: Do you want to go out ?  A: i am not going to do \n",
            "####################\n",
            "check point saved!\n",
            "Best epoch so far:  17\n",
            "Time  284.347 sec\n",
            "\n",
            "========================================\n",
            "Epoch 18 Batch 598 Loss: 1.5068\n",
            "Epoch 18 Batch 1196 Loss: 1.9739\n",
            "Epoch 18 Batch 1794 Loss: 1.9465\n",
            "Epoch 18 Batch 2392 Loss: 2.0387\n",
            "Epoch 18 Batch 2990 Loss: 1.6206\n",
            "Epoch 18 Batch 3588 Loss: 1.9074\n",
            "\n",
            "*** Epoch 18 Loss 1.5777 ***\n",
            "\n",
            "####################\n",
            "Greedy| Q: Hello   A: hello \n",
            "%\n",
            "Greedy| Q: How are you ?  A: i am not going to do \n",
            "%\n",
            "Greedy| Q: What are you doing ?  A: i am not going to do \n",
            "%\n",
            "Greedy| Q: What is your favorite restaurant ?  A: i am not going to be a good time \n",
            "%\n",
            "Greedy| Q: Do you want to go out ?  A: i am not going to do \n",
            "####################\n",
            "check point saved!\n",
            "Best epoch so far:  18\n",
            "Time  281.754 sec\n",
            "\n",
            "========================================\n",
            "Epoch 19 Batch 598 Loss: 1.4596\n",
            "Epoch 19 Batch 1196 Loss: 2.0369\n",
            "Epoch 19 Batch 1794 Loss: 1.9602\n",
            "Epoch 19 Batch 2392 Loss: 1.8924\n",
            "Epoch 19 Batch 2990 Loss: 1.6105\n",
            "Epoch 19 Batch 3588 Loss: 1.8995\n",
            "\n",
            "*** Epoch 19 Loss 1.5719 ***\n",
            "\n",
            "####################\n",
            "Greedy| Q: Hello   A: hello \n",
            "%\n",
            "Greedy| Q: How are you ?  A: i am not going to do \n",
            "%\n",
            "Greedy| Q: What are you doing ?  A: i am not going to do \n",
            "%\n",
            "Greedy| Q: What is your favorite restaurant ?  A: i am not a good time \n",
            "%\n",
            "Greedy| Q: Do you want to go out ?  A: i will not \n",
            "####################\n",
            "check point saved!\n",
            "Best epoch so far:  19\n",
            "Time  281.112 sec\n",
            "\n",
            "========================================\n",
            "Epoch 20 Batch 598 Loss: 1.2565\n",
            "Epoch 20 Batch 1196 Loss: 2.1198\n",
            "Epoch 20 Batch 1794 Loss: 1.8303\n",
            "Epoch 20 Batch 2392 Loss: 1.9141\n",
            "Epoch 20 Batch 2990 Loss: 1.6286\n",
            "Epoch 20 Batch 3588 Loss: 1.9385\n",
            "\n",
            "*** Epoch 20 Loss 1.5665 ***\n",
            "\n",
            "####################\n",
            "Greedy| Q: Hello   A: hello \n",
            "%\n",
            "Greedy| Q: How are you ?  A: i am not going to be a little late \n",
            "%\n",
            "Greedy| Q: What are you doing ?  A: i am not going to do \n",
            "%\n",
            "Greedy| Q: What is your favorite restaurant ?  A: i am not going to be a good time \n",
            "%\n",
            "Greedy| Q: Do you want to go out ?  A: i am not going to \n",
            "####################\n",
            "check point saved!\n"
          ],
          "name": "stdout"
        },
        {
          "output_type": "display_data",
          "data": {
            "image/png": "[encoded data removed]",
            "text/plain": [
              "<Figure size 288x216 with 1 Axes>"
            ]
          },
          "metadata": {
            "tags": [],
            "needs_background": "light"
          }
        },
        {
          "output_type": "stream",
          "text": [
            "Best epoch so far:  20\n",
            "Time  280.074 sec\n",
            "\n",
            "========================================\n",
            "Epoch 21 Batch 598 Loss: 1.3689\n",
            "Epoch 21 Batch 1196 Loss: 1.8101\n",
            "Epoch 21 Batch 1794 Loss: 1.5953\n",
            "Epoch 21 Batch 2392 Loss: 1.9060\n",
            "Epoch 21 Batch 2990 Loss: 1.5431\n",
            "Epoch 21 Batch 3588 Loss: 1.6828\n",
            "\n",
            "*** Epoch 21 Loss 1.5614 ***\n",
            "\n",
            "####################\n",
            "Greedy| Q: Hello   A: hello \n",
            "%\n",
            "Greedy| Q: How are you ?  A: i am not going to know \n",
            "%\n",
            "Greedy| Q: What are you doing ?  A: i am not sure you are going to know \n",
            "%\n",
            "Greedy| Q: What is your favorite restaurant ?  A: i am not sure \n",
            "%\n",
            "Greedy| Q: Do you want to go out ?  A: i am not going to \n",
            "####################\n",
            "check point saved!\n",
            "Best epoch so far:  21\n",
            "Time  280.758 sec\n",
            "\n",
            "========================================\n",
            "Epoch 22 Batch 598 Loss: 1.4534\n",
            "Epoch 22 Batch 1196 Loss: 1.7010\n",
            "Epoch 22 Batch 1794 Loss: 1.6370\n",
            "Epoch 22 Batch 2392 Loss: 1.7673\n",
            "Epoch 22 Batch 2990 Loss: 1.4810\n",
            "Epoch 22 Batch 3588 Loss: 1.5165\n",
            "\n",
            "*** Epoch 22 Loss 1.5564 ***\n",
            "\n",
            "####################\n",
            "Greedy| Q: Hello   A: hello \n",
            "%\n",
            "Greedy| Q: How are you ?  A: i am not going to be a little late \n",
            "%\n",
            "Greedy| Q: What are you doing ?  A: i am not sure you are going to know \n",
            "%\n",
            "Greedy| Q: What is your favorite restaurant ?  A: i am not sure \n",
            "%\n",
            "Greedy| Q: Do you want to go out ?  A: i am not going to \n",
            "####################\n",
            "check point saved!\n",
            "Best epoch so far:  22\n",
            "Time  280.650 sec\n",
            "\n",
            "========================================\n",
            "Epoch 23 Batch 598 Loss: 1.4904\n",
            "Epoch 23 Batch 1196 Loss: 1.8308\n",
            "Epoch 23 Batch 1794 Loss: 1.9232\n",
            "Epoch 23 Batch 2392 Loss: 1.9948\n",
            "Epoch 23 Batch 2990 Loss: 1.5221\n",
            "Epoch 23 Batch 3588 Loss: 1.7994\n",
            "\n",
            "*** Epoch 23 Loss 1.5521 ***\n",
            "\n",
            "####################\n",
            "Greedy| Q: Hello   A: hello \n",
            "%\n",
            "Greedy| Q: How are you ?  A: i am not going to be a little bit \n",
            "%\n",
            "Greedy| Q: What are you doing ?  A: i am not sure you are going to be a little bit \n",
            "%\n",
            "Greedy| Q: What is your favorite restaurant ?  A: i am not sure \n",
            "%\n",
            "Greedy| Q: Do you want to go out ?  A: i am not going to do \n",
            "####################\n",
            "check point saved!\n",
            "Best epoch so far:  23\n",
            "Time  279.401 sec\n",
            "\n",
            "========================================\n",
            "Epoch 24 Batch 598 Loss: 1.4559\n",
            "Epoch 24 Batch 1196 Loss: 2.0275\n",
            "Epoch 24 Batch 1794 Loss: 1.9276\n",
            "Epoch 24 Batch 2392 Loss: 2.0171\n",
            "Epoch 24 Batch 2990 Loss: 1.5906\n",
            "Epoch 24 Batch 3588 Loss: 1.9844\n",
            "\n",
            "*** Epoch 24 Loss 1.5480 ***\n",
            "\n",
            "####################\n",
            "Greedy| Q: Hello   A: hello \n",
            "%\n",
            "Greedy| Q: How are you ?  A: i am not going to be a little bit \n",
            "%\n",
            "Greedy| Q: What are you doing ?  A: i am not a good time \n",
            "%\n",
            "Greedy| Q: What is your favorite restaurant ?  A: i am not a seizure \n",
            "%\n",
            "Greedy| Q: Do you want to go out ?  A: i am not going to be \n",
            "####################\n",
            "check point saved!\n",
            "Best epoch so far:  24\n",
            "Time  279.956 sec\n",
            "\n",
            "========================================\n",
            "Epoch 25 Batch 598 Loss: 1.2874\n",
            "Epoch 25 Batch 1196 Loss: 2.1151\n",
            "Epoch 25 Batch 1794 Loss: 1.8098\n",
            "Epoch 25 Batch 2392 Loss: 1.9092\n",
            "Epoch 25 Batch 2990 Loss: 1.6337\n",
            "Epoch 25 Batch 3588 Loss: 1.8066\n",
            "\n",
            "*** Epoch 25 Loss 1.5446 ***\n",
            "\n",
            "####################\n",
            "Greedy| Q: Hello   A: hello \n",
            "%\n",
            "Greedy| Q: How are you ?  A: i am not sure \n",
            "%\n",
            "Greedy| Q: What are you doing ?  A: i am not sure you are going to be a long time \n",
            "%\n",
            "Greedy| Q: What is your favorite restaurant ?  A: i am not a good time \n",
            "%\n",
            "Greedy| Q: Do you want to go out ?  A: i am not going to do \n",
            "####################\n",
            "check point saved!\n"
          ],
          "name": "stdout"
        },
        {
          "output_type": "display_data",
          "data": {
            "image/png": "[encoded data removed]",
            "text/plain": [
              "<Figure size 288x216 with 1 Axes>"
            ]
          },
          "metadata": {
            "tags": [],
            "needs_background": "light"
          }
        },
        {
          "output_type": "stream",
          "text": [
            "Best epoch so far:  25\n",
            "Time  279.964 sec\n",
            "\n",
            "========================================\n",
            "Epoch 26 Batch 598 Loss: 1.3193\n",
            "Epoch 26 Batch 1196 Loss: 1.8586\n",
            "Epoch 26 Batch 1794 Loss: 1.7186\n",
            "Epoch 26 Batch 2392 Loss: 1.8942\n",
            "Epoch 26 Batch 2990 Loss: 1.5740\n",
            "Epoch 26 Batch 3588 Loss: 1.7612\n",
            "\n",
            "*** Epoch 26 Loss 1.5401 ***\n",
            "\n",
            "####################\n",
            "Greedy| Q: Hello   A: hello \n",
            "%\n",
            "Greedy| Q: How are you ?  A: i am not a good time \n",
            "%\n",
            "Greedy| Q: What are you doing ?  A: i am not a good time \n",
            "%\n",
            "Greedy| Q: What is your favorite restaurant ?  A: i am not a seizure \n",
            "%\n",
            "Greedy| Q: Do you want to go out ?  A: i am not a long time \n",
            "####################\n",
            "check point saved!\n",
            "Best epoch so far:  26\n",
            "Time  279.961 sec\n",
            "\n",
            "========================================\n",
            "Epoch 27 Batch 598 Loss: 1.3907\n",
            "Epoch 27 Batch 1196 Loss: 1.6903\n",
            "Epoch 27 Batch 1794 Loss: 1.5948\n",
            "Epoch 27 Batch 2392 Loss: 1.7910\n",
            "Epoch 27 Batch 2990 Loss: 1.4246\n",
            "Epoch 27 Batch 3588 Loss: 1.5670\n",
            "\n",
            "*** Epoch 27 Loss 1.5360 ***\n",
            "\n",
            "####################\n",
            "Greedy| Q: Hello   A: hello \n",
            "%\n",
            "Greedy| Q: How are you ?  A: i am not a good time \n",
            "%\n",
            "Greedy| Q: What are you doing ?  A: i am not a good time \n",
            "%\n",
            "Greedy| Q: What is your favorite restaurant ?  A: i am not a solid of the river \n",
            "%\n",
            "Greedy| Q: Do you want to go out ?  A: i am not a good time \n",
            "####################\n",
            "check point saved!\n",
            "Best epoch so far:  27\n",
            "Time  280.287 sec\n",
            "\n",
            "========================================\n",
            "Epoch 28 Batch 598 Loss: 1.5059\n",
            "Epoch 28 Batch 1196 Loss: 1.8179\n",
            "Epoch 28 Batch 1794 Loss: 1.8829\n",
            "Epoch 28 Batch 2392 Loss: 1.9817\n",
            "Epoch 28 Batch 2990 Loss: 1.3924\n",
            "Epoch 28 Batch 3588 Loss: 1.7436\n",
            "\n",
            "*** Epoch 28 Loss 1.5332 ***\n",
            "\n",
            "####################\n",
            "Greedy| Q: Hello   A: hello \n",
            "%\n",
            "Greedy| Q: How are you ?  A: i am not a good time \n",
            "%\n",
            "Greedy| Q: What are you doing ?  A: i am not a good time \n",
            "%\n",
            "Greedy| Q: What is your favorite restaurant ?  A: i am not sure \n",
            "%\n",
            "Greedy| Q: Do you want to go out ?  A: i will not \n",
            "####################\n",
            "check point saved!\n",
            "Best epoch so far:  28\n",
            "Time  279.447 sec\n",
            "\n",
            "========================================\n",
            "Epoch 29 Batch 598 Loss: 1.4699\n",
            "Epoch 29 Batch 1196 Loss: 1.9463\n",
            "Epoch 29 Batch 1794 Loss: 1.9013\n",
            "Epoch 29 Batch 2392 Loss: 1.9491\n",
            "Epoch 29 Batch 2990 Loss: 1.5721\n",
            "Epoch 29 Batch 3588 Loss: 1.8222\n",
            "\n",
            "*** Epoch 29 Loss 1.5300 ***\n",
            "\n",
            "####################\n",
            "Greedy| Q: Hello   A: hello \n",
            "%\n",
            "Greedy| Q: How are you ?  A: i am not a good time \n",
            "%\n",
            "Greedy| Q: What are you doing ?  A: i am not a good time \n",
            "%\n",
            "Greedy| Q: What is your favorite restaurant ?  A: i am not sure \n",
            "%\n",
            "Greedy| Q: Do you want to go out ?  A: i am not a good time \n",
            "####################\n",
            "check point saved!\n",
            "Best epoch so far:  29\n",
            "Time  279.066 sec\n",
            "\n",
            "========================================\n",
            "Epoch 30 Batch 598 Loss: 1.3348\n",
            "Epoch 30 Batch 1196 Loss: 2.0090\n",
            "Epoch 30 Batch 1794 Loss: 1.9598\n",
            "Epoch 30 Batch 2392 Loss: 1.8709\n",
            "Epoch 30 Batch 2990 Loss: 1.5925\n",
            "Epoch 30 Batch 3588 Loss: 1.8049\n",
            "\n",
            "*** Epoch 30 Loss 1.5270 ***\n",
            "\n",
            "####################\n",
            "Greedy| Q: Hello   A: hello \n",
            "%\n",
            "Greedy| Q: How are you ?  A: i am not a good time \n",
            "%\n",
            "Greedy| Q: What are you doing ?  A: i am not a good time \n",
            "%\n",
            "Greedy| Q: What is your favorite restaurant ?  A: i am not a solid of the middle of the middle of the middle of the middle of \n",
            "%\n",
            "Greedy| Q: Do you want to go out ?  A: i am not a good time \n",
            "####################\n",
            "check point saved!\n"
          ],
          "name": "stdout"
        },
        {
          "output_type": "display_data",
          "data": {
            "image/png": "[encoded data removed]",
            "text/plain": [
              "<Figure size 288x216 with 1 Axes>"
            ]
          },
          "metadata": {
            "tags": [],
            "needs_background": "light"
          }
        },
        {
          "output_type": "stream",
          "text": [
            "Best epoch so far:  30\n",
            "Time  279.071 sec\n",
            "\n",
            "========================================\n",
            "Epoch 31 Batch 598 Loss: 1.3583\n",
            "Epoch 31 Batch 1196 Loss: 1.9066\n",
            "Epoch 31 Batch 1794 Loss: 1.8355\n",
            "Epoch 31 Batch 2392 Loss: 1.7783\n",
            "Epoch 31 Batch 2990 Loss: 1.6012\n",
            "Epoch 31 Batch 3588 Loss: 1.8320\n",
            "\n",
            "*** Epoch 31 Loss 1.5240 ***\n",
            "\n",
            "####################\n",
            "Greedy| Q: Hello   A: hello \n",
            "%\n",
            "Greedy| Q: How are you ?  A: i am not a good time \n",
            "%\n",
            "Greedy| Q: What are you doing ?  A: i am not a good time \n",
            "%\n",
            "Greedy| Q: What is your favorite restaurant ?  A: i am not a good time \n",
            "%\n",
            "Greedy| Q: Do you want to go out ?  A: i am not a good time \n",
            "####################\n",
            "check point saved!\n",
            "Best epoch so far:  31\n",
            "Time  278.771 sec\n",
            "\n",
            "========================================\n",
            "Epoch 32 Batch 598 Loss: 1.4071\n",
            "Epoch 32 Batch 1196 Loss: 1.6918\n",
            "Epoch 32 Batch 1794 Loss: 1.5309\n",
            "Epoch 32 Batch 2392 Loss: 1.8072\n",
            "Epoch 32 Batch 2990 Loss: 1.4262\n",
            "Epoch 32 Batch 3588 Loss: 1.6357\n",
            "\n",
            "*** Epoch 32 Loss 1.5208 ***\n",
            "\n",
            "####################\n",
            "Greedy| Q: Hello   A: hello \n",
            "%\n",
            "Greedy| Q: How are you ?  A: i am not a good time \n",
            "%\n",
            "Greedy| Q: What are you doing ?  A: i am not a long time \n",
            "%\n",
            "Greedy| Q: What is your favorite restaurant ?  A: i am not a witch \n",
            "%\n",
            "Greedy| Q: Do you want to go out ?  A: i will not \n",
            "####################\n",
            "check point saved!\n",
            "Best epoch so far:  32\n",
            "Time  278.906 sec\n",
            "\n",
            "========================================\n",
            "Epoch 33 Batch 598 Loss: 1.5116\n",
            "Epoch 33 Batch 1196 Loss: 1.7976\n",
            "Epoch 33 Batch 1794 Loss: 1.7824\n",
            "Epoch 33 Batch 2392 Loss: 1.9779\n",
            "Epoch 33 Batch 2990 Loss: 1.3330\n",
            "Epoch 33 Batch 3588 Loss: 1.6683\n",
            "\n",
            "*** Epoch 33 Loss 1.5184 ***\n",
            "\n",
            "####################\n",
            "Greedy| Q: Hello   A: hello \n",
            "%\n",
            "Greedy| Q: How are you ?  A: i am not a good time \n",
            "%\n",
            "Greedy| Q: What are you doing ?  A: i am not a good time \n",
            "%\n",
            "Greedy| Q: What is your favorite restaurant ?  A: i am not sure \n",
            "%\n",
            "Greedy| Q: Do you want to go out ?  A: i am not going to do \n",
            "####################\n",
            "check point saved!\n",
            "Best epoch so far:  33\n",
            "Time  279.058 sec\n",
            "\n",
            "========================================\n",
            "Epoch 34 Batch 598 Loss: 1.4495\n",
            "Epoch 34 Batch 1196 Loss: 1.8749\n",
            "Epoch 34 Batch 1794 Loss: 1.8768\n",
            "Epoch 34 Batch 2392 Loss: 1.9821\n",
            "Epoch 34 Batch 2990 Loss: 1.5546\n",
            "Epoch 34 Batch 3588 Loss: 1.8259\n",
            "\n",
            "*** Epoch 34 Loss 1.5163 ***\n",
            "\n",
            "####################\n",
            "Greedy| Q: Hello   A: hello \n",
            "%\n",
            "Greedy| Q: How are you ?  A: i am not a seizure \n",
            "%\n",
            "Greedy| Q: What are you doing ?  A: i am not a seizure \n",
            "%\n",
            "Greedy| Q: What is your favorite restaurant ?  A: i am not a seizure \n",
            "%\n",
            "Greedy| Q: Do you want to go out ?  A: i am not a good time \n",
            "####################\n",
            "check point saved!\n",
            "Best epoch so far:  34\n",
            "Time  278.543 sec\n",
            "\n",
            "========================================\n",
            "Epoch 35 Batch 598 Loss: 1.4081\n",
            "Epoch 35 Batch 1196 Loss: 1.9537\n",
            "Epoch 35 Batch 1794 Loss: 1.9297\n",
            "Epoch 35 Batch 2392 Loss: 1.8509\n",
            "Epoch 35 Batch 2990 Loss: 1.5394\n",
            "Epoch 35 Batch 3588 Loss: 1.7907\n",
            "\n",
            "*** Epoch 35 Loss 1.5171 ***\n",
            "\n",
            "####################\n",
            "Greedy| Q: Hello   A: hello \n",
            "%\n",
            "Greedy| Q: How are you ?  A: i am not a good time \n",
            "%\n",
            "Greedy| Q: What are you doing ?  A: i am not a seizure \n",
            "%\n",
            "Greedy| Q: What is your favorite restaurant ?  A: i am not sure \n",
            "%\n",
            "Greedy| Q: Do you want to go out ?  A: i am not going to do \n",
            "####################\n"
          ],
          "name": "stdout"
        },
        {
          "output_type": "display_data",
          "data": {
            "image/png": "[encoded data removed]",
            "text/plain": [
              "<Figure size 288x216 with 1 Axes>"
            ]
          },
          "metadata": {
            "tags": [],
            "needs_background": "light"
          }
        },
        {
          "output_type": "stream",
          "text": [
            "Best epoch so far:  34\n",
            "Time  279.513 sec\n",
            "\n",
            "========================================\n",
            "Epoch 36 Batch 598 Loss: 1.2298\n",
            "Epoch 36 Batch 1196 Loss: 2.0290\n",
            "Epoch 36 Batch 1794 Loss: 1.7869\n",
            "Epoch 36 Batch 2392 Loss: 1.8671\n",
            "Epoch 36 Batch 2990 Loss: 1.5576\n",
            "Epoch 36 Batch 3588 Loss: 1.8382\n",
            "\n",
            "*** Epoch 36 Loss 1.5116 ***\n",
            "\n",
            "####################\n",
            "Greedy| Q: Hello   A: hello \n",
            "%\n",
            "Greedy| Q: How are you ?  A: i am not a good time \n",
            "%\n",
            "Greedy| Q: What are you doing ?  A: i am not a good time \n",
            "%\n",
            "Greedy| Q: What is your favorite restaurant ?  A: i am not sure \n",
            "%\n",
            "Greedy| Q: Do you want to go out ?  A: i am not \n",
            "####################\n",
            "check point saved!\n",
            "Best epoch so far:  36\n",
            "Time  278.993 sec\n",
            "\n",
            "========================================\n",
            "Epoch 37 Batch 598 Loss: 1.3376\n",
            "Epoch 37 Batch 1196 Loss: 1.7436\n",
            "Epoch 37 Batch 1794 Loss: 1.5682\n",
            "Epoch 37 Batch 2392 Loss: 1.8464\n",
            "Epoch 37 Batch 2990 Loss: 1.4791\n",
            "Epoch 37 Batch 3588 Loss: 1.6010\n",
            "\n",
            "*** Epoch 37 Loss 1.5083 ***\n",
            "\n",
            "####################\n",
            "Greedy| Q: Hello   A: hello \n",
            "%\n",
            "Greedy| Q: How are you ?  A: i am not a seizure \n",
            "%\n",
            "Greedy| Q: What are you doing ?  A: i am not a good time \n",
            "%\n",
            "Greedy| Q: What is your favorite restaurant ?  A: i am going to be a good time ago \n",
            "%\n",
            "Greedy| Q: Do you want to go out ?  A: i am not a good thing \n",
            "####################\n",
            "check point saved!\n",
            "Best epoch so far:  37\n",
            "Time  278.948 sec\n",
            "\n",
            "========================================\n",
            "Epoch 38 Batch 598 Loss: 1.4132\n",
            "Epoch 38 Batch 1196 Loss: 1.6490\n",
            "Epoch 38 Batch 1794 Loss: 1.5898\n",
            "Epoch 38 Batch 2392 Loss: 1.7281\n",
            "Epoch 38 Batch 2990 Loss: 1.4117\n",
            "Epoch 38 Batch 3588 Loss: 1.4285\n",
            "\n",
            "*** Epoch 38 Loss 1.5064 ***\n",
            "\n",
            "####################\n",
            "Greedy| Q: Hello   A: hello \n",
            "%\n",
            "Greedy| Q: How are you ?  A: i am not a seizure \n",
            "%\n",
            "Greedy| Q: What are you doing ?  A: i am not a seizure \n",
            "%\n",
            "Greedy| Q: What is your favorite restaurant ?  A: i am not sure \n",
            "%\n",
            "Greedy| Q: Do you want to go out ?  A: i am not going to do \n",
            "####################\n",
            "check point saved!\n",
            "Best epoch so far:  38\n",
            "Time  279.288 sec\n",
            "\n",
            "========================================\n",
            "Epoch 39 Batch 598 Loss: 1.4256\n",
            "Epoch 39 Batch 1196 Loss: 1.7686\n",
            "Epoch 39 Batch 1794 Loss: 1.8880\n",
            "Epoch 39 Batch 2392 Loss: 1.9538\n",
            "Epoch 39 Batch 2990 Loss: 1.4728\n",
            "Epoch 39 Batch 3588 Loss: 1.7305\n",
            "\n",
            "*** Epoch 39 Loss 1.5047 ***\n",
            "\n",
            "####################\n",
            "Greedy| Q: Hello   A: hello \n",
            "%\n",
            "Greedy| Q: How are you ?  A: i am not going to be \n",
            "%\n",
            "Greedy| Q: What are you doing ?  A: i am not going to be \n",
            "%\n",
            "Greedy| Q: What is your favorite restaurant ?  A: i am not sure \n",
            "%\n",
            "Greedy| Q: Do you want to go out ?  A: i am not going to do \n",
            "####################\n",
            "check point saved!\n",
            "Best epoch so far:  39\n",
            "Time  278.859 sec\n",
            "\n",
            "========================================\n",
            "Epoch 40 Batch 598 Loss: 1.4074\n",
            "Epoch 40 Batch 1196 Loss: 1.9637\n",
            "Epoch 40 Batch 1794 Loss: 1.9027\n",
            "Epoch 40 Batch 2392 Loss: 1.9566\n",
            "Epoch 40 Batch 2990 Loss: 1.5281\n",
            "Epoch 40 Batch 3588 Loss: 1.8910\n",
            "\n",
            "*** Epoch 40 Loss 1.5022 ***\n",
            "\n",
            "####################\n",
            "Greedy| Q: Hello   A: hello \n",
            "%\n",
            "Greedy| Q: How are you ?  A: i am not a seizure \n",
            "%\n",
            "Greedy| Q: What are you doing ?  A: i am not a seizure \n",
            "%\n",
            "Greedy| Q: What is your favorite restaurant ?  A: i am not sure \n",
            "%\n",
            "Greedy| Q: Do you want to go out ?  A: no \n",
            "####################\n",
            "check point saved!\n"
          ],
          "name": "stdout"
        },
        {
          "output_type": "display_data",
          "data": {
            "image/png": "[encoded data removed]",
            "text/plain": [
              "<Figure size 288x216 with 1 Axes>"
            ]
          },
          "metadata": {
            "tags": [],
            "needs_background": "light"
          }
        },
        {
          "output_type": "stream",
          "text": [
            "Best epoch so far:  40\n",
            "Time  279.619 sec\n",
            "\n",
            "========================================\n",
            "Epoch 41 Batch 598 Loss: 1.2614\n",
            "Epoch 41 Batch 1196 Loss: 2.0446\n"
          ],
          "name": "stdout"
        },
        {
          "output_type": "error",
          "ename": "KeyboardInterrupt",
          "evalue": "ignored",
          "traceback": [
            "\u001b[0;31m---------------------------------------------------------------------------\u001b[0m",
            "\u001b[0;31mKeyboardInterrupt\u001b[0m                         Traceback (most recent call last)",
            "\u001b[0;32m<ipython-input-27-eaa3df648461>\u001b[0m in \u001b[0;36m<module>\u001b[0;34m()\u001b[0m\n\u001b[1;32m     29\u001b[0m \u001b[0;34m\u001b[0m\u001b[0m\n\u001b[1;32m     30\u001b[0m         \u001b[0;32mif\u001b[0m \u001b[0mlen\u001b[0m\u001b[0;34m(\u001b[0m\u001b[0mX\u001b[0m\u001b[0;34m)\u001b[0m \u001b[0;34m==\u001b[0m \u001b[0mbatch_size\u001b[0m \u001b[0;34m:\u001b[0m\u001b[0;34m\u001b[0m\u001b[0;34m\u001b[0m\u001b[0m\n\u001b[0;32m---> 31\u001b[0;31m             \u001b[0mbatch_loss\u001b[0m \u001b[0;34m=\u001b[0m \u001b[0mtrain_step\u001b[0m\u001b[0;34m(\u001b[0m\u001b[0mnp\u001b[0m\u001b[0;34m.\u001b[0m\u001b[0marray\u001b[0m\u001b[0;34m(\u001b[0m\u001b[0mX\u001b[0m\u001b[0;34m)\u001b[0m\u001b[0;34m,\u001b[0m \u001b[0mnp\u001b[0m\u001b[0;34m.\u001b[0m\u001b[0marray\u001b[0m\u001b[0;34m(\u001b[0m\u001b[0my\u001b[0m\u001b[0;34m)\u001b[0m\u001b[0;34m,\u001b[0m \u001b[0menc_hidden\u001b[0m\u001b[0;34m)\u001b[0m\u001b[0;34m\u001b[0m\u001b[0;34m\u001b[0m\u001b[0m\n\u001b[0m\u001b[1;32m     32\u001b[0m             \u001b[0mtotal_loss\u001b[0m \u001b[0;34m+=\u001b[0m \u001b[0mbatch_loss\u001b[0m\u001b[0;34m\u001b[0m\u001b[0;34m\u001b[0m\u001b[0m\n\u001b[1;32m     33\u001b[0m             \u001b[0mX\u001b[0m \u001b[0;34m,\u001b[0m \u001b[0my\u001b[0m \u001b[0;34m=\u001b[0m \u001b[0;34m[\u001b[0m\u001b[0;34m]\u001b[0m\u001b[0;34m,\u001b[0m \u001b[0;34m[\u001b[0m\u001b[0;34m]\u001b[0m\u001b[0;34m\u001b[0m\u001b[0;34m\u001b[0m\u001b[0m\n",
            "\u001b[0;32m/usr/local/lib/python3.7/dist-packages/tensorflow/python/eager/def_function.py\u001b[0m in \u001b[0;36m__call__\u001b[0;34m(self, *args, **kwds)\u001b[0m\n\u001b[1;32m    826\u001b[0m     \u001b[0mtracing_count\u001b[0m \u001b[0;34m=\u001b[0m \u001b[0mself\u001b[0m\u001b[0;34m.\u001b[0m\u001b[0mexperimental_get_tracing_count\u001b[0m\u001b[0;34m(\u001b[0m\u001b[0;34m)\u001b[0m\u001b[0;34m\u001b[0m\u001b[0;34m\u001b[0m\u001b[0m\n\u001b[1;32m    827\u001b[0m     \u001b[0;32mwith\u001b[0m \u001b[0mtrace\u001b[0m\u001b[0;34m.\u001b[0m\u001b[0mTrace\u001b[0m\u001b[0;34m(\u001b[0m\u001b[0mself\u001b[0m\u001b[0;34m.\u001b[0m\u001b[0m_name\u001b[0m\u001b[0;34m)\u001b[0m \u001b[0;32mas\u001b[0m \u001b[0mtm\u001b[0m\u001b[0;34m:\u001b[0m\u001b[0;34m\u001b[0m\u001b[0;34m\u001b[0m\u001b[0m\n\u001b[0;32m--> 828\u001b[0;31m       \u001b[0mresult\u001b[0m \u001b[0;34m=\u001b[0m \u001b[0mself\u001b[0m\u001b[0;34m.\u001b[0m\u001b[0m_call\u001b[0m\u001b[0;34m(\u001b[0m\u001b[0;34m*\u001b[0m\u001b[0margs\u001b[0m\u001b[0;34m,\u001b[0m \u001b[0;34m**\u001b[0m\u001b[0mkwds\u001b[0m\u001b[0;34m)\u001b[0m\u001b[0;34m\u001b[0m\u001b[0;34m\u001b[0m\u001b[0m\n\u001b[0m\u001b[1;32m    829\u001b[0m       \u001b[0mcompiler\u001b[0m \u001b[0;34m=\u001b[0m \u001b[0;34m\"xla\"\u001b[0m \u001b[0;32mif\u001b[0m \u001b[0mself\u001b[0m\u001b[0;34m.\u001b[0m\u001b[0m_experimental_compile\u001b[0m \u001b[0;32melse\u001b[0m \u001b[0;34m\"nonXla\"\u001b[0m\u001b[0;34m\u001b[0m\u001b[0;34m\u001b[0m\u001b[0m\n\u001b[1;32m    830\u001b[0m       \u001b[0mnew_tracing_count\u001b[0m \u001b[0;34m=\u001b[0m \u001b[0mself\u001b[0m\u001b[0;34m.\u001b[0m\u001b[0mexperimental_get_tracing_count\u001b[0m\u001b[0;34m(\u001b[0m\u001b[0;34m)\u001b[0m\u001b[0;34m\u001b[0m\u001b[0;34m\u001b[0m\u001b[0m\n",
            "\u001b[0;32m/usr/local/lib/python3.7/dist-packages/tensorflow/python/eager/def_function.py\u001b[0m in \u001b[0;36m_call\u001b[0;34m(self, *args, **kwds)\u001b[0m\n\u001b[1;32m    853\u001b[0m       \u001b[0;31m# In this case we have created variables on the first call, so we run the\u001b[0m\u001b[0;34m\u001b[0m\u001b[0;34m\u001b[0m\u001b[0;34m\u001b[0m\u001b[0m\n\u001b[1;32m    854\u001b[0m       \u001b[0;31m# defunned version which is guaranteed to never create variables.\u001b[0m\u001b[0;34m\u001b[0m\u001b[0;34m\u001b[0m\u001b[0;34m\u001b[0m\u001b[0m\n\u001b[0;32m--> 855\u001b[0;31m       \u001b[0;32mreturn\u001b[0m \u001b[0mself\u001b[0m\u001b[0;34m.\u001b[0m\u001b[0m_stateless_fn\u001b[0m\u001b[0;34m(\u001b[0m\u001b[0;34m*\u001b[0m\u001b[0margs\u001b[0m\u001b[0;34m,\u001b[0m \u001b[0;34m**\u001b[0m\u001b[0mkwds\u001b[0m\u001b[0;34m)\u001b[0m  \u001b[0;31m# pylint: disable=not-callable\u001b[0m\u001b[0;34m\u001b[0m\u001b[0;34m\u001b[0m\u001b[0m\n\u001b[0m\u001b[1;32m    856\u001b[0m     \u001b[0;32melif\u001b[0m \u001b[0mself\u001b[0m\u001b[0;34m.\u001b[0m\u001b[0m_stateful_fn\u001b[0m \u001b[0;32mis\u001b[0m \u001b[0;32mnot\u001b[0m \u001b[0;32mNone\u001b[0m\u001b[0;34m:\u001b[0m\u001b[0;34m\u001b[0m\u001b[0;34m\u001b[0m\u001b[0m\n\u001b[1;32m    857\u001b[0m       \u001b[0;31m# Release the lock early so that multiple threads can perform the call\u001b[0m\u001b[0;34m\u001b[0m\u001b[0;34m\u001b[0m\u001b[0;34m\u001b[0m\u001b[0m\n",
            "\u001b[0;32m/usr/local/lib/python3.7/dist-packages/tensorflow/python/eager/function.py\u001b[0m in \u001b[0;36m__call__\u001b[0;34m(self, *args, **kwargs)\u001b[0m\n\u001b[1;32m   2941\u001b[0m        filtered_flat_args) = self._maybe_define_function(args, kwargs)\n\u001b[1;32m   2942\u001b[0m     return graph_function._call_flat(\n\u001b[0;32m-> 2943\u001b[0;31m         filtered_flat_args, captured_inputs=graph_function.captured_inputs)  # pylint: disable=protected-access\n\u001b[0m\u001b[1;32m   2944\u001b[0m \u001b[0;34m\u001b[0m\u001b[0m\n\u001b[1;32m   2945\u001b[0m   \u001b[0;34m@\u001b[0m\u001b[0mproperty\u001b[0m\u001b[0;34m\u001b[0m\u001b[0;34m\u001b[0m\u001b[0m\n",
            "\u001b[0;32m/usr/local/lib/python3.7/dist-packages/tensorflow/python/eager/function.py\u001b[0m in \u001b[0;36m_call_flat\u001b[0;34m(self, args, captured_inputs, cancellation_manager)\u001b[0m\n\u001b[1;32m   1917\u001b[0m       \u001b[0;31m# No tape is watching; skip to running the function.\u001b[0m\u001b[0;34m\u001b[0m\u001b[0;34m\u001b[0m\u001b[0;34m\u001b[0m\u001b[0m\n\u001b[1;32m   1918\u001b[0m       return self._build_call_outputs(self._inference_function.call(\n\u001b[0;32m-> 1919\u001b[0;31m           ctx, args, cancellation_manager=cancellation_manager))\n\u001b[0m\u001b[1;32m   1920\u001b[0m     forward_backward = self._select_forward_and_backward_functions(\n\u001b[1;32m   1921\u001b[0m         \u001b[0margs\u001b[0m\u001b[0;34m,\u001b[0m\u001b[0;34m\u001b[0m\u001b[0;34m\u001b[0m\u001b[0m\n",
            "\u001b[0;32m/usr/local/lib/python3.7/dist-packages/tensorflow/python/eager/function.py\u001b[0m in \u001b[0;36mcall\u001b[0;34m(self, ctx, args, cancellation_manager)\u001b[0m\n\u001b[1;32m    558\u001b[0m               \u001b[0minputs\u001b[0m\u001b[0;34m=\u001b[0m\u001b[0margs\u001b[0m\u001b[0;34m,\u001b[0m\u001b[0;34m\u001b[0m\u001b[0;34m\u001b[0m\u001b[0m\n\u001b[1;32m    559\u001b[0m               \u001b[0mattrs\u001b[0m\u001b[0;34m=\u001b[0m\u001b[0mattrs\u001b[0m\u001b[0;34m,\u001b[0m\u001b[0;34m\u001b[0m\u001b[0;34m\u001b[0m\u001b[0m\n\u001b[0;32m--> 560\u001b[0;31m               ctx=ctx)\n\u001b[0m\u001b[1;32m    561\u001b[0m         \u001b[0;32melse\u001b[0m\u001b[0;34m:\u001b[0m\u001b[0;34m\u001b[0m\u001b[0;34m\u001b[0m\u001b[0m\n\u001b[1;32m    562\u001b[0m           outputs = execute.execute_with_cancellation(\n",
            "\u001b[0;32m/usr/local/lib/python3.7/dist-packages/tensorflow/python/eager/execute.py\u001b[0m in \u001b[0;36mquick_execute\u001b[0;34m(op_name, num_outputs, inputs, attrs, ctx, name)\u001b[0m\n\u001b[1;32m     58\u001b[0m     \u001b[0mctx\u001b[0m\u001b[0;34m.\u001b[0m\u001b[0mensure_initialized\u001b[0m\u001b[0;34m(\u001b[0m\u001b[0;34m)\u001b[0m\u001b[0;34m\u001b[0m\u001b[0;34m\u001b[0m\u001b[0m\n\u001b[1;32m     59\u001b[0m     tensors = pywrap_tfe.TFE_Py_Execute(ctx._handle, device_name, op_name,\n\u001b[0;32m---> 60\u001b[0;31m                                         inputs, attrs, num_outputs)\n\u001b[0m\u001b[1;32m     61\u001b[0m   \u001b[0;32mexcept\u001b[0m \u001b[0mcore\u001b[0m\u001b[0;34m.\u001b[0m\u001b[0m_NotOkStatusException\u001b[0m \u001b[0;32mas\u001b[0m \u001b[0me\u001b[0m\u001b[0;34m:\u001b[0m\u001b[0;34m\u001b[0m\u001b[0;34m\u001b[0m\u001b[0m\n\u001b[1;32m     62\u001b[0m     \u001b[0;32mif\u001b[0m \u001b[0mname\u001b[0m \u001b[0;32mis\u001b[0m \u001b[0;32mnot\u001b[0m \u001b[0;32mNone\u001b[0m\u001b[0;34m:\u001b[0m\u001b[0;34m\u001b[0m\u001b[0;34m\u001b[0m\u001b[0m\n",
            "\u001b[0;31mKeyboardInterrupt\u001b[0m: "
          ]
        }
      ]
    },
    {
      "cell_type": "markdown",
      "metadata": {
        "id": "NK75PGx14ytY"
      },
      "source": [
        "Now we can load our best model and chat with our system. We also plot the attention weights."
      ]
    },
    {
      "cell_type": "code",
      "metadata": {
        "id": "1QxHQg1SduLo",
        "colab": {
          "base_uri": "https://localhost:8080/"
        },
        "outputId": "081e9e9d-492a-4fff-d7ef-1802542147ce"
      },
      "source": [
        "checkpoint.restore(str(emb_dim)+\"-ckpt-139\")\n"
      ],
      "execution_count": 28,
      "outputs": [
        {
          "output_type": "execute_result",
          "data": {
            "text/plain": [
              "<tensorflow.python.training.tracking.util.CheckpointLoadStatus at 0x7fd20d216f50>"
            ]
          },
          "metadata": {
            "tags": []
          },
          "execution_count": 28
        }
      ]
    },
    {
      "cell_type": "code",
      "metadata": {
        "id": "cr2-oAf0fBXT",
        "colab": {
          "base_uri": "https://localhost:8080/"
        },
        "outputId": "ec7617a8-8c8e-45e7-dc57-6bcb1955bde3"
      },
      "source": [
        "test_bot()\n"
      ],
      "execution_count": 29,
      "outputs": [
        {
          "output_type": "stream",
          "text": [
            "####################\n",
            "Greedy| Q: Hello   A: hello \n",
            "%\n",
            "Greedy| Q: How are you ?  A: i am not going to do \n",
            "%\n",
            "Greedy| Q: What are you doing ?  A: i am not sure \n",
            "%\n",
            "Greedy| Q: What is your favorite restaurant ?  A: i am not sure \n",
            "%\n",
            "Greedy| Q: Do you want to go out ?  A: i am not going to do \n",
            "####################\n"
          ],
          "name": "stdout"
        }
      ]
    },
    {
      "cell_type": "code",
      "metadata": {
        "id": "FEu-hvlUfMh6",
        "colab": {
          "base_uri": "https://localhost:8080/",
          "height": 314
        },
        "outputId": "437cbb53-8dba-4db9-ce58-f93dbd76371d"
      },
      "source": [
        "q = \"How old are you\"\n",
        "answer(q, training=False)\n"
      ],
      "execution_count": 30,
      "outputs": [
        {
          "output_type": "stream",
          "text": [
            "Input: how old are you\n",
            "Predicted answer: i am seventyfour \n"
          ],
          "name": "stdout"
        },
        {
          "output_type": "display_data",
          "data": {
            "image/png": "[encoded data removed]",
            "text/plain": [
              "<Figure size 360x360 with 1 Axes>"
            ]
          },
          "metadata": {
            "tags": [],
            "needs_background": "light"
          }
        }
      ]
    },
    {
      "cell_type": "code",
      "metadata": {
        "id": "Q62doKoifhcH",
        "colab": {
          "base_uri": "https://localhost:8080/",
          "height": 382
        },
        "outputId": "93abfeab-6711-4dfb-eca7-c403b6f1a0b1"
      },
      "source": [
        "q = \"Do you drink\"\n",
        "answer(q, training=False)\n"
      ],
      "execution_count": 31,
      "outputs": [
        {
          "output_type": "stream",
          "text": [
            "Input: do you drink\n",
            "Predicted answer: i am fine \n"
          ],
          "name": "stdout"
        },
        {
          "output_type": "display_data",
          "data": {
            "image/png": "[encoded data removed]",
            "text/plain": [
              "<Figure size 360x360 with 1 Axes>"
            ]
          },
          "metadata": {
            "tags": [],
            "needs_background": "light"
          }
        }
      ]
    },
    {
      "cell_type": "markdown",
      "metadata": {
        "id": "O6ztdvo_vD-i"
      },
      "source": [
        "**Task 3** Let's look at the attention weights and compare them after 5, 50 and 140 epochs. Instead of evaluating by an automatic evaluation method, you can show us 10 predictions for each model. Answer the following question based on your predictions.\n",
        "\n",
        "\n",
        "*   Did the models learn to track local relations between words?\n",
        "\n",
        "*   Did the models attend to the least frequent tokens in an utterance? Can you see signs of overfitting in models that hang on to the least frequent words?\n",
        "\n",
        "*   Did the models learn to track some major syntactic relations in the utterances (subject-verb, verb-object)?\n",
        "\n",
        "*   Do they learn to encode some other linguistic features? Do they capture part-of-speech tags (POS tags)?\n",
        "\n",
        "*   What is the effect of more training on the length of responss?\n",
        "\n",
        "*   In some instances, by the time the decoder has to generate the beginning of a response, it may already forget the most relevant early query tokens. Can you suggest ways to change the training pipeline to make it easier for the model to remember the beginning of the query when it starts to generate the response?\n",
        "\n",
        "\n",
        "\n",
        "\n",
        "\n",
        "\n",
        "\n",
        "\n",
        "\n",
        "\n",
        "\n",
        "\n",
        "\n",
        "\n",
        "\n",
        "\n",
        "\n",
        "\n",
        "\n"
      ]
    },
    {
      "cell_type": "markdown",
      "metadata": {
        "id": "Id_YU0FaFSPY"
      },
      "source": [
        "### **For Epoch 5:**<br>\n",
        "Epoch 5 Batch 598 Loss: 1.4375<br>\n",
        "Epoch 5 Batch 1196 Loss: 2.1154<br>\n",
        "Epoch 5 Batch 1794 Loss: 1.8994<br>\n",
        "Epoch 5 Batch 2392 Loss: 2.0242<br>\n",
        "Epoch 5 Batch 2990 Loss: 1.7987<br>\n",
        "Epoch 5 Batch 3588 Loss: 2.1512<br>\n",
        "\n",
        "*** Epoch 5 Loss 1.7229 ***<br>\n",
        "\n",
        "####################<br>\n",
        "Greedy| Q: Hello   A: hi <br>\n",
        "%<br>\n",
        "Greedy| Q: How are you ?  A: i am not going to be a good idea <br>\n",
        "%<br>\n",
        "Greedy| Q: What are you doing ?  A: i am not going to be a good idea <br>\n",
        "%<br>\n",
        "Greedy| Q: What is your favorite restaurant ?  A: i am not going to be <br>a good idea <br>\n",
        "%<br>\n",
        "Greedy| Q: Do you want to go out ?  A: i am not going to be a good idea <br>\n",
        "####################<br>\n",
        "check point saved!<br>\n",
        " \n",
        "Best epoch so far:  5<br>\n",
        "Time  284.578 sec<br>\n",
        "![image.png](data:image/png;base64,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)\n"
      ]
    },
    {
      "cell_type": "markdown",
      "metadata": {
        "id": "WnOHqhmdFzOf"
      },
      "source": [
        "### **For Epoch 50 (Restored from 10th checkpoint):**<br>\n",
        "Epoch 40 Batch 598 Loss: 1.4074<br>\n",
        "Epoch 40 Batch 1196 Loss: 1.9637<br>\n",
        "Epoch 40 Batch 1794 Loss: 1.9027<br>\n",
        "Epoch 40 Batch 2392 Loss: 1.9566<br>\n",
        "Epoch 40 Batch 2990 Loss: 1.5281<br>\n",
        "Epoch 40 Batch 3588 Loss: 1.8910<br>\n",
        "\n",
        "*** Epoch 40 Loss 1.5022 ***<br>\n",
        "\n",
        "####################<br>\n",
        "Greedy| Q: Hello   A: hello <br>\n",
        "%<br>\n",
        "Greedy| Q: How are you ?  A: i am not a seizure <br>\n",
        "%<br>\n",
        "Greedy| Q: What are you doing ?  A: i am not a seizure <br>\n",
        "%<br>\n",
        "Greedy| Q: What is your favorite restaurant ?  A: i am not sure <br>\n",
        "%<br>\n",
        "Greedy| Q: Do you want to go out ?  A: no <br>\n",
        "####################<br>\n",
        "check point saved!<br>\n",
        "![image.png](data:image/png;base64,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)\n",
        " \n"
      ]
    },
    {
      "cell_type": "markdown",
      "metadata": {
        "id": "DbHFbmVZGVfF"
      },
      "source": [
        "### **For Epoch 140 (Restored from 83rd checkpoint)**:\n",
        "Epoch 57 Batch 598 Loss: 1.2956<br>\n",
        "Epoch 57 Batch 1196 Loss: 1.8414<br>\n",
        "Epoch 57 Batch 1794 Loss: 1.8710<br>\n",
        "Epoch 57 Batch 2392 Loss: 1.7296<br>\n",
        "Epoch 57 Batch 2990 Loss: 1.4834<br>\n",
        "Epoch 57 Batch 3588 Loss: 1.6756<br>\n",
        "\n",
        "*** Epoch 57 Loss 1.4312 ***<br>\n",
        "\n",
        "####################<br>\n",
        "Greedy| Q: Hello   A: hello <br>\n",
        "%<br>\n",
        "Greedy| Q: How are you ?  A: i am not going to do <br>\n",
        "%<br>\n",
        "Greedy| Q: What are you doing ?  A: i am not sure <br>\n",
        "%<br>\n",
        "Greedy| Q: What is your favorite restaurant ?  A: shhhh <br>\n",
        "%<br>\n",
        "Greedy| Q: Do you want to go out ?  A: i am not going to do <br>\n",
        "####################<br>\n",
        "Best epoch so far:  56<br>\n",
        "Time  468.751 sec<br>\n",
        "\n"
      ]
    },
    {
      "cell_type": "code",
      "metadata": {
        "id": "neCKfGekNDgM"
      },
      "source": [
        "qs = ['hello', 'how are you', 'what are you doing', 'what is your favourite restaurant', 'where do you like to eat', 'do you want to go out',\n",
        "'what do you want to eat', 'do you drink', 'are you okay', 'when are you coming']"
      ],
      "execution_count": 28,
      "outputs": []
    },
    {
      "cell_type": "code",
      "metadata": {
        "colab": {
          "base_uri": "https://localhost:8080/"
        },
        "id": "1QrDpeW2M7bN",
        "outputId": "481099c6-8dd3-424c-94fc-a2880bed0a78"
      },
      "source": [
        "checkpoint.restore(str(emb_dim)+\"-ckpt-5\")"
      ],
      "execution_count": 29,
      "outputs": [
        {
          "output_type": "execute_result",
          "data": {
            "text/plain": [
              "<tensorflow.python.training.tracking.util.CheckpointLoadStatus at 0x7fcab35b2d10>"
            ]
          },
          "metadata": {
            "tags": []
          },
          "execution_count": 29
        }
      ]
    },
    {
      "cell_type": "code",
      "metadata": {
        "colab": {
          "base_uri": "https://localhost:8080/",
          "height": 1000
        },
        "id": "saUfQl7UOCpi",
        "outputId": "25bc735f-628a-4c64-886c-6664f2588c39"
      },
      "source": [
        "for q in qs:\n",
        "  answer(q, training=False)"
      ],
      "execution_count": 30,
      "outputs": [
        {
          "output_type": "stream",
          "text": [
            "Input: hello\n",
            "Predicted answer: hi \n"
          ],
          "name": "stdout"
        },
        {
          "output_type": "display_data",
          "data": {
            "image/png": "[encoded data removed]",
            "text/plain": [
              "<Figure size 360x360 with 1 Axes>"
            ]
          },
          "metadata": {
            "tags": [],
            "needs_background": "light"
          }
        },
        {
          "output_type": "stream",
          "text": [
            "Input: how are you\n",
            "Predicted answer: i am not going to be a good idea \n"
          ],
          "name": "stdout"
        },
        {
          "output_type": "display_data",
          "data": {
            "image/png": "[encoded data removed]",
            "text/plain": [
              "<Figure size 360x360 with 1 Axes>"
            ]
          },
          "metadata": {
            "tags": [],
            "needs_background": "light"
          }
        },
        {
          "output_type": "stream",
          "text": [
            "Input: what are you doing\n",
            "Predicted answer: i am not going to be a good idea \n"
          ],
          "name": "stdout"
        },
        {
          "output_type": "display_data",
          "data": {
            "image/png": "[encoded data removed]",
            "text/plain": [
              "<Figure size 360x360 with 1 Axes>"
            ]
          },
          "metadata": {
            "tags": [],
            "needs_background": "light"
          }
        },
        {
          "output_type": "stream",
          "text": [
            "Input: what is your favourite restaurant\n",
            "Predicted answer: i am not going to be a good idea \n"
          ],
          "name": "stdout"
        },
        {
          "output_type": "display_data",
          "data": {
            "image/png": "[encoded data removed]",
            "text/plain": [
              "<Figure size 360x360 with 1 Axes>"
            ]
          },
          "metadata": {
            "tags": [],
            "needs_background": "light"
          }
        },
        {
          "output_type": "stream",
          "text": [
            "Input: where do you like to eat\n",
            "Predicted answer: i am not going to be a good time \n"
          ],
          "name": "stdout"
        },
        {
          "output_type": "display_data",
          "data": {
            "image/png": "[encoded data removed]",
            "text/plain": [
              "<Figure size 360x360 with 1 Axes>"
            ]
          },
          "metadata": {
            "tags": [],
            "needs_background": "light"
          }
        },
        {
          "output_type": "stream",
          "text": [
            "Input: do you want to go out\n",
            "Predicted answer: i am not going to be a good idea \n"
          ],
          "name": "stdout"
        },
        {
          "output_type": "display_data",
          "data": {
            "image/png": "[encoded data removed]",
            "text/plain": [
              "<Figure size 360x360 with 1 Axes>"
            ]
          },
          "metadata": {
            "tags": [],
            "needs_background": "light"
          }
        },
        {
          "output_type": "stream",
          "text": [
            "Input: what do you want to eat\n",
            "Predicted answer: i am not going to be a good idea \n"
          ],
          "name": "stdout"
        },
        {
          "output_type": "display_data",
          "data": {
            "image/png": "[encoded data removed]",
            "text/plain": [
              "<Figure size 360x360 with 1 Axes>"
            ]
          },
          "metadata": {
            "tags": [],
            "needs_background": "light"
          }
        },
        {
          "output_type": "stream",
          "text": [
            "Input: do you drink\n",
            "Predicted answer: i am not going to be a good idea \n"
          ],
          "name": "stdout"
        },
        {
          "output_type": "display_data",
          "data": {
            "image/png": "[encoded data removed]",
            "text/plain": [
              "<Figure size 360x360 with 1 Axes>"
            ]
          },
          "metadata": {
            "tags": [],
            "needs_background": "light"
          }
        },
        {
          "output_type": "stream",
          "text": [
            "Input: are you okay\n",
            "Predicted answer: i am not going to be a good idea \n"
          ],
          "name": "stdout"
        },
        {
          "output_type": "display_data",
          "data": {
            "image/png": "[encoded data removed]",
            "text/plain": [
              "<Figure size 360x360 with 1 Axes>"
            ]
          },
          "metadata": {
            "tags": [],
            "needs_background": "light"
          }
        },
        {
          "output_type": "stream",
          "text": [
            "Input: when are you coming\n",
            "Predicted answer: i am not going to be a good idea \n"
          ],
          "name": "stdout"
        },
        {
          "output_type": "display_data",
          "data": {
            "image/png": "[encoded data removed]",
            "text/plain": [
              "<Figure size 360x360 with 1 Axes>"
            ]
          },
          "metadata": {
            "tags": [],
            "needs_background": "light"
          }
        }
      ]
    },
    {
      "cell_type": "code",
      "metadata": {
        "colab": {
          "base_uri": "https://localhost:8080/"
        },
        "id": "0_MOKxxCM8sf",
        "outputId": "44878464-9911-42fc-ebfc-06e7695e8b60"
      },
      "source": [
        "checkpoint.restore(str(emb_dim)+\"-ckpt-50\")"
      ],
      "execution_count": 31,
      "outputs": [
        {
          "output_type": "execute_result",
          "data": {
            "text/plain": [
              "<tensorflow.python.training.tracking.util.CheckpointLoadStatus at 0x7fcab32b1650>"
            ]
          },
          "metadata": {
            "tags": []
          },
          "execution_count": 31
        }
      ]
    },
    {
      "cell_type": "code",
      "metadata": {
        "colab": {
          "base_uri": "https://localhost:8080/",
          "height": 1000
        },
        "id": "65cBqNRyOK7n",
        "outputId": "681e35c8-71ac-426b-f917-a4bffb1cfb5a"
      },
      "source": [
        "for q in qs:\n",
        "  answer(q, training=False)"
      ],
      "execution_count": 32,
      "outputs": [
        {
          "output_type": "stream",
          "text": [
            "Input: hello\n",
            "Predicted answer: hello \n"
          ],
          "name": "stdout"
        },
        {
          "output_type": "display_data",
          "data": {
            "image/png": "[encoded data removed]",
            "text/plain": [
              "<Figure size 360x360 with 1 Axes>"
            ]
          },
          "metadata": {
            "tags": [],
            "needs_background": "light"
          }
        },
        {
          "output_type": "stream",
          "text": [
            "Input: how are you\n",
            "Predicted answer: i am not a seizure \n"
          ],
          "name": "stdout"
        },
        {
          "output_type": "display_data",
          "data": {
            "image/png": "[encoded data removed]",
            "text/plain": [
              "<Figure size 360x360 with 1 Axes>"
            ]
          },
          "metadata": {
            "tags": [],
            "needs_background": "light"
          }
        },
        {
          "output_type": "stream",
          "text": [
            "Input: what are you doing\n",
            "Predicted answer: i am not a seizure \n"
          ],
          "name": "stdout"
        },
        {
          "output_type": "display_data",
          "data": {
            "image/png": "[encoded data removed]",
            "text/plain": [
              "<Figure size 360x360 with 1 Axes>"
            ]
          },
          "metadata": {
            "tags": [],
            "needs_background": "light"
          }
        },
        {
          "output_type": "stream",
          "text": [
            "Input: what is your favourite restaurant\n",
            "Predicted answer: i am not sure \n"
          ],
          "name": "stdout"
        },
        {
          "output_type": "display_data",
          "data": {
            "image/png": "[encoded data removed]",
            "text/plain": [
              "<Figure size 360x360 with 1 Axes>"
            ]
          },
          "metadata": {
            "tags": [],
            "needs_background": "light"
          }
        },
        {
          "output_type": "stream",
          "text": [
            "Input: where do you like to eat\n",
            "Predicted answer: i am not a tightrope \n"
          ],
          "name": "stdout"
        },
        {
          "output_type": "display_data",
          "data": {
            "image/png": "[encoded data removed]",
            "text/plain": [
              "<Figure size 360x360 with 1 Axes>"
            ]
          },
          "metadata": {
            "tags": [],
            "needs_background": "light"
          }
        },
        {
          "output_type": "stream",
          "text": [
            "Input: do you want to go out\n",
            "Predicted answer: no \n"
          ],
          "name": "stdout"
        },
        {
          "output_type": "display_data",
          "data": {
            "image/png": "[encoded data removed]",
            "text/plain": [
              "<Figure size 360x360 with 1 Axes>"
            ]
          },
          "metadata": {
            "tags": [],
            "needs_background": "light"
          }
        },
        {
          "output_type": "stream",
          "text": [
            "Input: what do you want to eat\n",
            "Predicted answer: i am not going to be \n"
          ],
          "name": "stdout"
        },
        {
          "output_type": "display_data",
          "data": {
            "image/png": "[encoded data removed]",
            "text/plain": [
              "<Figure size 360x360 with 1 Axes>"
            ]
          },
          "metadata": {
            "tags": [],
            "needs_background": "light"
          }
        },
        {
          "output_type": "stream",
          "text": [
            "Input: do you drink\n",
            "Predicted answer: i am not going to be \n"
          ],
          "name": "stdout"
        },
        {
          "output_type": "display_data",
          "data": {
            "image/png": "[encoded data removed]",
            "text/plain": [
              "<Figure size 360x360 with 1 Axes>"
            ]
          },
          "metadata": {
            "tags": [],
            "needs_background": "light"
          }
        },
        {
          "output_type": "stream",
          "text": [
            "Input: are you okay\n",
            "Predicted answer: i am not a good time \n"
          ],
          "name": "stdout"
        },
        {
          "output_type": "display_data",
          "data": {
            "image/png": "[encoded data removed]",
            "text/plain": [
              "<Figure size 360x360 with 1 Axes>"
            ]
          },
          "metadata": {
            "tags": [],
            "needs_background": "light"
          }
        },
        {
          "output_type": "stream",
          "text": [
            "Input: when are you coming\n",
            "Predicted answer: i am not going to restore the tribes shaman \n"
          ],
          "name": "stdout"
        },
        {
          "output_type": "display_data",
          "data": {
            "image/png": "[encoded data removed]",
            "text/plain": [
              "<Figure size 360x360 with 1 Axes>"
            ]
          },
          "metadata": {
            "tags": [],
            "needs_background": "light"
          }
        }
      ]
    },
    {
      "cell_type": "code",
      "metadata": {
        "colab": {
          "base_uri": "https://localhost:8080/"
        },
        "id": "S5VRNujBM8_F",
        "outputId": "c8cd3fab-ee65-49f8-b866-056f4472f2b3"
      },
      "source": [
        "checkpoint.restore(str(emb_dim)+\"-ckpt-140\")"
      ],
      "execution_count": 33,
      "outputs": [
        {
          "output_type": "execute_result",
          "data": {
            "text/plain": [
              "<tensorflow.python.training.tracking.util.CheckpointLoadStatus at 0x7fcab284f050>"
            ]
          },
          "metadata": {
            "tags": []
          },
          "execution_count": 33
        }
      ]
    },
    {
      "cell_type": "code",
      "metadata": {
        "colab": {
          "base_uri": "https://localhost:8080/",
          "height": 1000
        },
        "id": "7QZF7UhgOLlC",
        "outputId": "b767ad0f-3214-4816-a3b2-458f05145618"
      },
      "source": [
        "for q in qs:\n",
        "  answer(q, training=False)"
      ],
      "execution_count": 34,
      "outputs": [
        {
          "output_type": "stream",
          "text": [
            "Input: hello\n",
            "Predicted answer: hello \n"
          ],
          "name": "stdout"
        },
        {
          "output_type": "display_data",
          "data": {
            "image/png": "[encoded data removed]",
            "text/plain": [
              "<Figure size 360x360 with 1 Axes>"
            ]
          },
          "metadata": {
            "tags": [],
            "needs_background": "light"
          }
        },
        {
          "output_type": "stream",
          "text": [
            "Input: how are you\n",
            "Predicted answer: i am not going to do \n"
          ],
          "name": "stdout"
        },
        {
          "output_type": "display_data",
          "data": {
            "image/png": "[encoded data removed]",
            "text/plain": [
              "<Figure size 360x360 with 1 Axes>"
            ]
          },
          "metadata": {
            "tags": [],
            "needs_background": "light"
          }
        },
        {
          "output_type": "stream",
          "text": [
            "Input: what are you doing\n",
            "Predicted answer: i am not sure \n"
          ],
          "name": "stdout"
        },
        {
          "output_type": "display_data",
          "data": {
            "image/png": "[encoded data removed]",
            "text/plain": [
              "<Figure size 360x360 with 1 Axes>"
            ]
          },
          "metadata": {
            "tags": [],
            "needs_background": "light"
          }
        },
        {
          "output_type": "stream",
          "text": [
            "Input: what is your favourite restaurant\n",
            "Predicted answer: i am seventyfour \n"
          ],
          "name": "stdout"
        },
        {
          "output_type": "display_data",
          "data": {
            "image/png": "[encoded data removed]",
            "text/plain": [
              "<Figure size 360x360 with 1 Axes>"
            ]
          },
          "metadata": {
            "tags": [],
            "needs_background": "light"
          }
        },
        {
          "output_type": "stream",
          "text": [
            "Input: where do you like to eat\n",
            "Predicted answer: i am not \n"
          ],
          "name": "stdout"
        },
        {
          "output_type": "display_data",
          "data": {
            "image/png": "[encoded data removed]",
            "text/plain": [
              "<Figure size 360x360 with 1 Axes>"
            ]
          },
          "metadata": {
            "tags": [],
            "needs_background": "light"
          }
        },
        {
          "output_type": "stream",
          "text": [
            "Input: do you want to go out\n",
            "Predicted answer: i am not going to do \n"
          ],
          "name": "stdout"
        },
        {
          "output_type": "display_data",
          "data": {
            "image/png": "[encoded data removed]",
            "text/plain": [
              "<Figure size 360x360 with 1 Axes>"
            ]
          },
          "metadata": {
            "tags": [],
            "needs_background": "light"
          }
        },
        {
          "output_type": "stream",
          "text": [
            "Input: what do you want to eat\n",
            "Predicted answer: i am not sure \n"
          ],
          "name": "stdout"
        },
        {
          "output_type": "display_data",
          "data": {
            "image/png": "[encoded data removed]",
            "text/plain": [
              "<Figure size 360x360 with 1 Axes>"
            ]
          },
          "metadata": {
            "tags": [],
            "needs_background": "light"
          }
        },
        {
          "output_type": "stream",
          "text": [
            "Input: do you drink\n",
            "Predicted answer: i am \n"
          ],
          "name": "stdout"
        },
        {
          "output_type": "display_data",
          "data": {
            "image/png": "[encoded data removed]",
            "text/plain": [
              "<Figure size 360x360 with 1 Axes>"
            ]
          },
          "metadata": {
            "tags": [],
            "needs_background": "light"
          }
        },
        {
          "output_type": "stream",
          "text": [
            "Input: are you okay\n",
            "Predicted answer: i am not sure you are not \n"
          ],
          "name": "stdout"
        },
        {
          "output_type": "display_data",
          "data": {
            "image/png": "[encoded data removed]",
            "text/plain": [
              "<Figure size 360x360 with 1 Axes>"
            ]
          },
          "metadata": {
            "tags": [],
            "needs_background": "light"
          }
        },
        {
          "output_type": "stream",
          "text": [
            "Input: when are you coming\n",
            "Predicted answer: i am not here for a while \n"
          ],
          "name": "stdout"
        },
        {
          "output_type": "display_data",
          "data": {
            "image/png": "[encoded data removed]",
            "text/plain": [
              "<Figure size 360x360 with 1 Axes>"
            ]
          },
          "metadata": {
            "tags": [],
            "needs_background": "light"
          }
        }
      ]
    },
    {
      "cell_type": "markdown",
      "metadata": {
        "id": "oWB_cjvuiuPw"
      },
      "source": [
        "### Did the models learn to track local relations between words?\n",
        "Yes the models do learn to track local relation between words. If we consider the question 'What do you want to eat', the matrix shows increased correlation between words of the question and the answer as well as in the question and answer itself."
      ]
    },
    {
      "cell_type": "markdown",
      "metadata": {
        "id": "0oDHbgEsZQvB"
      },
      "source": [
        "### Did the models attend to the least frequent tokens in an utterance? Can you see signs of overfitting in models that hang on to the least frequent words?\n",
        "Yes the model did attend to the least frequent tokens in the utterance. If you consider the question 'what is your favourite restaurant', there was considerable difference in the output to this question. However, we can see that no answer is relevant to the question and the model is giving random answers to the question. This shows signs of overfitting."
      ]
    },
    {
      "cell_type": "markdown",
      "metadata": {
        "id": "0BUEYrSrZZTy"
      },
      "source": [
        "### Did the models learn to track some major syntactic relations in the utterances (subject-verb, verb-object)?\n",
        "Yes it was able to track the syntactic relations correctly.\n",
        "Even if it did struggle even in the 140th epoch where it says 'i am not sure you are not' which is grammactically incorrect, it was able to get the Noun - verb - object concatenated structures correctly as well."
      ]
    },
    {
      "cell_type": "markdown",
      "metadata": {
        "id": "BBxV-9olZZWk"
      },
      "source": [
        "### Do they learn to encode some other linguistic features? Do they capture part-of-speech tags (POS tags)?\n",
        "They were indeed able to capture various linguistic features like Tense. It is able to detect the present tense and answer in the appropriate sense. They are also able to detect the POS Tags like for eg in the response 'i am seventyfour' it correctly identified the structure of Subject - Verb - Object."
      ]
    },
    {
      "cell_type": "markdown",
      "metadata": {
        "id": "dxGjHQ4UZZbe"
      },
      "source": [
        "### What is the effect of more training on the length of responss?\n",
        "The training did not really affect the length of responses. Sometimes the length got less and then got more again and vice versa. So the length of the response is not related to the epochs."
      ]
    },
    {
      "cell_type": "markdown",
      "metadata": {
        "id": "PR_V2hoDpMtO"
      },
      "source": [
        "### In some instances, by the time the decoder has to generate the beginning of a response, it may already forget the most relevant early query tokens. Can you suggest ways to change the training pipeline to make it easier for the model to remember the beginning of the query when it starts to generate the response?\n",
        "We can experiment with the usage of other algorithms like CNN or LSTM to make the pipeline better. Sutskever et al., 2014; Bahdanau et al., 2014; Luong et al., 2015 suggest the usage of Neural generative models which are able to map dialogue history directly into\n",
        "the response in current turn, while requires a minimum amount of hand-crafting."
      ]
    },
    {
      "cell_type": "markdown",
      "metadata": {
        "id": "71GKNnQ06GzQ"
      },
      "source": [
        "You now have a good understanding of how to build a generative conversational model. If you're interested, you can customise the chatbot's behaviour by adjusting the model and training parameters, as well as the data used to train the model."
      ]
    }
  ]
}